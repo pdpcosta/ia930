{
 "cells": [
  {
   "cell_type": "markdown",
   "id": "fc9ef9e8",
   "metadata": {},
   "source": [
    "Código para treino de modelo e testes"
   ]
  },
  {
   "cell_type": "markdown",
   "id": "d22a6531",
   "metadata": {},
   "source": [
    "https://towardsdatascience.com/extracting-song-data-from-the-spotify-api-using-python-b1e79388d50\n",
    "\n",
    "https://towardsdatascience.com/predicting-the-music-mood-of-a-song-with-deep-learning-c3ac2b45229e\n",
    "\n",
    "https://sites.tufts.edu/eeseniordesignhandbook/2015/music-mood-classification/\n",
    "\n",
    "https://scholar.smu.edu/cgi/viewcontent.cgi?article=1197&context=datasciencereview"
   ]
  },
  {
   "cell_type": "code",
   "execution_count": 1,
   "id": "63174f39",
   "metadata": {},
   "outputs": [],
   "source": [
    "import pandas as pd\n",
    "import numpy as np\n",
    "import librosa as lr\n",
    "import matplotlib.pyplot as plt\n",
    "import os\n",
    "\n",
    "import lyricsgenius\n",
    "\n",
    "# Features do spotify\n",
    "import spotipy\n",
    "from spotipy.oauth2 import SpotifyClientCredentials\n",
    "\n",
    "from craiyon import Craiyon\n",
    "from PIL import Image # pip install pillow\n",
    "from io import BytesIO\n",
    "import base64\n",
    "\n",
    "from statistics import mode"
   ]
  },
  {
   "cell_type": "code",
   "execution_count": 2,
   "id": "c1592090",
   "metadata": {},
   "outputs": [],
   "source": [
    "# Funções do código\n",
    "\n",
    "def letra(title, artist):\n",
    "    api_key='ORBJc-e5kH3LA_H5KohP8Grgp_YCbaBZgqz536TachvT1_iX7mPPwU3WrADiJ8Nw'\n",
    "    genius= lyricsgenius.Genius(api_key)\n",
    "    #title=\"Clube Da Esquina Nº 2\"\n",
    "    #artist=\"Milton Nascimento\"\n",
    "    song = genius.search_song(title=title, artist=artist)\n",
    "    print(song.lyrics)\n",
    "    return song.lyrics\n",
    "\n",
    "def features_musicais():\n",
    "    artist = input(\"Digite o nome da banda/artista: \")\n",
    "    title = input(\"Digite o nome da música (ou palavra chave): \")\n",
    "    \n",
    "    df_nova_mus = pd.DataFrame(columns=['name','artist','uri','danceability', 'acousticness', 'energy', 'instrumentalness','liveness', 'valence', 'loudness', 'speechiness', 'tempo'])\n",
    "    \n",
    "    # Make your own Spotify app at https://beta.developer.spotify.com/dashboard/applications\n",
    "    client_id = '0cbd7765b9634995877c5d78e483bf07'\n",
    "    client_secret = 'f5e3b60f8471408eb6f195734ff8a775'\n",
    "\n",
    "    client_credentials_manager = SpotifyClientCredentials(client_id=client_id, client_secret=client_secret)\n",
    "    sp = spotipy.Spotify(client_credentials_manager=client_credentials_manager)\n",
    "    sp.trace=False\n",
    "    search_querry = artist + ' ' + title\n",
    "    result = sp.search(search_querry)\n",
    "\n",
    "    # Pega o primeiro resultado da busca\n",
    "    prim_resp = result['tracks']['items'][0]\n",
    "    uri = prim_resp['uri']\n",
    "    features = sp.audio_features(uri)\n",
    "    #print(features[0])\n",
    "\n",
    "    print(\"Nome da música selecionada: \",prim_resp['name'])\n",
    "    print(\"Nome do artista: \",prim_resp['artists'][0]['name'])\n",
    "    #print(uri)\n",
    "\n",
    "    # Informações da música\n",
    "    df_nova_mus.loc[0,'name'] = prim_resp['name']\n",
    "    df_nova_mus.loc[0,'artist'] = prim_resp['artists'][0]['name']\n",
    "    df_nova_mus.loc[0,'uri'] = uri\n",
    "\n",
    "    # Puxar as features: 'danceability', 'acousticness', 'energy', 'instrumentalness','liveness', 'valence', 'loudness', \n",
    "    # 'speechiness', 'tempo'\n",
    "    df_nova_mus.loc[0,'danceability'] = features[0]['danceability']\n",
    "    df_nova_mus.loc[0,'acousticness'] = features[0]['acousticness']\n",
    "    df_nova_mus.loc[0,'energy'] = features[0]['energy']\n",
    "    df_nova_mus.loc[0,'instrumentalness'] = features[0]['instrumentalness']\n",
    "    df_nova_mus.loc[0,'liveness'] = features[0]['liveness']\n",
    "    df_nova_mus.loc[0,'valence'] = features[0]['valence']\n",
    "    df_nova_mus.loc[0,'loudness'] = features[0]['loudness']\n",
    "    df_nova_mus.loc[0,'speechiness'] = features[0]['speechiness']\n",
    "    df_nova_mus.loc[0,'tempo'] = features[0]['tempo']\n",
    "    \n",
    "    return df_nova_mus\n",
    "\n",
    "def carregar_modelo(nome_modelo):\n",
    "    with open(\"{}.pkl\".format(nome_modelo), \"rb\") as f:\n",
    "        model = pickle.load(f)\n",
    "    \n",
    "    return model\n",
    "\n",
    "def classificar_musica(modelo, df_nova_mus):\n",
    "    new = df_nova_mus[['danceability', 'acousticness', 'energy', 'instrumentalness',\n",
    "                       'liveness', 'valence', 'loudness', 'speechiness', 'tempo']]\n",
    "    m = modelo.predict(new)[0]\n",
    "    dic = {0:\"Calm\",1:\"Energetic\",2:\"Happy\",3:\"Sad\"}\n",
    "    mood = dic[m]\n",
    "    print(\"Sua música foi classificada como: \", mood)\n",
    "    \n",
    "    return mood\n",
    "\n",
    "def gerar_imagens():\n",
    "    cwd = os.getcwd()\n",
    "    target_dir = cwd +'/imagens'\n",
    "    target_dir\n",
    "    #os.mkdir(target_dir)\n",
    "\n",
    "    # Checar se a pasta já existe\n",
    "    os.path.exists(target_dir)\n",
    "\n",
    "    os.chdir(target_dir)\n",
    "    \n",
    "    generator = Craiyon() # Instantiates the api wrapper\n",
    "    result = generator.generate(\"happy mamma mia\")\n",
    "    result.save_images(r\"C:\\Users\\sara-\\OneDrive\\Área de Trabalho\\UNICAMP\\Computação afetiva\\Projeto final\\imagens\") \n",
    "    # Saves the generated images to 'current working directory/generated', you can also provide a custom pa\n",
    "    \n",
    "    print(\"Imagens salvas na pasta de imagens\")\n",
    "    \n",
    "def palavra_freq():\n",
    "    test_list = df['lyrics'][16].split()\n",
    "\n",
    "    temp = [wrd for sub in test_list for wrd in sub.split()]\n",
    "\n",
    "    # getting frequency\n",
    "    res = mode(temp)\n",
    "    print(test_list,temp,res)\n",
    "    return"
   ]
  },
  {
   "attachments": {
    "image.png": {
     "image/png": "[encoded data removed]"
    }
   },
   "cell_type": "markdown",
   "id": "5e0dc1b6",
   "metadata": {},
   "source": [
    "![image.png](attachment:image.png)"
   ]
  },
  {
   "cell_type": "code",
   "execution_count": 290,
   "id": "2e9e8b82",
   "metadata": {},
   "outputs": [],
   "source": [
    "cwd = os.getcwd()\n",
    "target_dir = cwd +'/imagens'\n",
    "target_dir\n",
    "#os.mkdir(target_dir)\n",
    "\n",
    "# Checar se a pasta já existe\n",
    "os.path.exists(target_dir)\n",
    "\n",
    "os.chdir(target_dir)"
   ]
  },
  {
   "cell_type": "code",
   "execution_count": 59,
   "id": "9d886d38",
   "metadata": {},
   "outputs": [],
   "source": [
    "generator = Craiyon() # Instantiates the api wrapper\n",
    "result = generator.generate(\"happy mamma mia\")\n",
    "result.save_images(r\"C:\\Users\\sara-\\OneDrive\\Área de Trabalho\\UNICAMP\\Computação afetiva\\Projeto final\\imagens\") # Saves the generated images to 'current working directory/generated', you can also provide a custom pa"
   ]
  },
  {
   "cell_type": "markdown",
   "id": "92d5e36f",
   "metadata": {},
   "source": [
    "# Letra da música"
   ]
  },
  {
   "cell_type": "code",
   "execution_count": 3,
   "id": "a30c6dd9",
   "metadata": {},
   "outputs": [
    {
     "name": "stdout",
     "output_type": "stream",
     "text": [
      "Searching for \"Clube Da Esquina Nº 2\" by Milton Nascimento...\n",
      "Done.\n",
      "Clube Da Esquina Nº 2 Lyrics[Instrumental on Album \"Clube Da Esquina\" 1972]\n",
      "\n",
      "[Lyrics on Album \"Angelus\" 1994]:\n",
      "\n",
      "Porque se chamava moço\n",
      "Também se chamava estrada\n",
      "Viagem de ventania\n",
      "Nem lembra se olhou pra trás\n",
      "Ao primeiro passo, aço, aço, aço, aço\n",
      "\n",
      "Porque se chamava homem\n",
      "Também se chamavam sonhos\n",
      "E sonhos não envelhecem\n",
      "Em meio a tantos gases lacrimogênios\n",
      "Ficam calmos, calmos, calmos\n",
      "E lá se vai mais um dia\n",
      "\n",
      "E basta contar compasso\n",
      "E basta contar consigo\n",
      "Que a chama não tem pavio\n",
      "De tudo se faz canção e o coração\n",
      "Na curva de um rio, rio\n",
      "\n",
      "E lá se vai mais um dia\n",
      "\n",
      "E o rio de asfalto e gente\n",
      "Entorna pelas ladeiras\n",
      "Entope o meio fio\n",
      "Esquina mais de um milhão\n",
      "Quero ver então a gente, gente, gente\n",
      "\n",
      "E lá se vai mais um dia\n",
      "\n",
      "E lá se vai mais um diaYou might also like1Embed\n"
     ]
    }
   ],
   "source": [
    "api_key='ORBJc-e5kH3LA_H5KohP8Grgp_YCbaBZgqz536TachvT1_iX7mPPwU3WrADiJ8Nw'\n",
    "genius= lyricsgenius.Genius(api_key)\n",
    "title=\"Clube Da Esquina Nº 2\"\n",
    "artist=\"Milton Nascimento\"\n",
    "song = genius.search_song(title=title, artist=artist)\n",
    "print(song.lyrics)"
   ]
  },
  {
   "cell_type": "code",
   "execution_count": 8,
   "id": "c929e4c7",
   "metadata": {},
   "outputs": [
    {
     "data": {
      "text/plain": [
       "776"
      ]
     },
     "execution_count": 8,
     "metadata": {},
     "output_type": "execute_result"
    }
   ],
   "source": [
    "len(song.lyrics)"
   ]
  },
  {
   "cell_type": "code",
   "execution_count": 5,
   "id": "30d211bc",
   "metadata": {},
   "outputs": [
    {
     "name": "stdout",
     "output_type": "stream",
     "text": [
      "['Clube', 'Da', 'Esquina', 'Nº', '2', 'Lyrics[Instrumental', 'on', 'Album', '\"Clube', 'Da', 'Esquina\"', '1972]', '[Lyrics', 'on', 'Album', '\"Angelus\"', '1994]:', 'Porque', 'se', 'chamava', 'moço', 'Também', 'se', 'chamava', 'estrada', 'Viagem', 'de', 'ventania', 'Nem', 'lembra', 'se', 'olhou', 'pra', 'trás', 'Ao', 'primeiro', 'passo,', 'aço,', 'aço,', 'aço,', 'aço', 'Porque', 'se', 'chamava', 'homem', 'Também', 'se', 'chamavam', 'sonhos', 'E', 'sonhos', 'não', 'envelhecem', 'Em', 'meio', 'a', 'tantos', 'gases', 'lacrimogênios', 'Ficam', 'calmos,', 'calmos,', 'calmos', 'E', 'lá', 'se', 'vai', 'mais', 'um', 'dia', 'E', 'basta', 'contar', 'compasso', 'E', 'basta', 'contar', 'consigo', 'Que', 'a', 'chama', 'não', 'tem', 'pavio', 'De', 'tudo', 'se', 'faz', 'canção', 'e', 'o', 'coração', 'Na', 'curva', 'de', 'um', 'rio,', 'rio', 'E', 'lá', 'se', 'vai', 'mais', 'um', 'dia', 'E', 'o', 'rio', 'de', 'asfalto', 'e', 'gente', 'Entorna', 'pelas', 'ladeiras', 'Entope', 'o', 'meio', 'fio', 'Esquina', 'mais', 'de', 'um', 'milhão', 'Quero', 'ver', 'então', 'a', 'gente,', 'gente,', 'gente', 'E', 'lá', 'se', 'vai', 'mais', 'um', 'dia', 'E', 'lá', 'se', 'vai', 'mais', 'um', 'diaYou', 'might', 'also', 'like1Embed'] ['Clube', 'Da', 'Esquina', 'Nº', '2', 'Lyrics[Instrumental', 'on', 'Album', '\"Clube', 'Da', 'Esquina\"', '1972]', '[Lyrics', 'on', 'Album', '\"Angelus\"', '1994]:', 'Porque', 'se', 'chamava', 'moço', 'Também', 'se', 'chamava', 'estrada', 'Viagem', 'de', 'ventania', 'Nem', 'lembra', 'se', 'olhou', 'pra', 'trás', 'Ao', 'primeiro', 'passo,', 'aço,', 'aço,', 'aço,', 'aço', 'Porque', 'se', 'chamava', 'homem', 'Também', 'se', 'chamavam', 'sonhos', 'E', 'sonhos', 'não', 'envelhecem', 'Em', 'meio', 'a', 'tantos', 'gases', 'lacrimogênios', 'Ficam', 'calmos,', 'calmos,', 'calmos', 'E', 'lá', 'se', 'vai', 'mais', 'um', 'dia', 'E', 'basta', 'contar', 'compasso', 'E', 'basta', 'contar', 'consigo', 'Que', 'a', 'chama', 'não', 'tem', 'pavio', 'De', 'tudo', 'se', 'faz', 'canção', 'e', 'o', 'coração', 'Na', 'curva', 'de', 'um', 'rio,', 'rio', 'E', 'lá', 'se', 'vai', 'mais', 'um', 'dia', 'E', 'o', 'rio', 'de', 'asfalto', 'e', 'gente', 'Entorna', 'pelas', 'ladeiras', 'Entope', 'o', 'meio', 'fio', 'Esquina', 'mais', 'de', 'um', 'milhão', 'Quero', 'ver', 'então', 'a', 'gente,', 'gente,', 'gente', 'E', 'lá', 'se', 'vai', 'mais', 'um', 'dia', 'E', 'lá', 'se', 'vai', 'mais', 'um', 'diaYou', 'might', 'also', 'like1Embed'] se\n"
     ]
    }
   ],
   "source": [
    "test_list = song.lyrics.split()\n",
    "\n",
    "temp = [wrd for sub in test_list for wrd in sub.split()]\n",
    "\n",
    "# getting frequency\n",
    "res = mode(temp)\n",
    "print(test_list,temp,res)"
   ]
  },
  {
   "cell_type": "code",
   "execution_count": 17,
   "id": "5ea27f5a",
   "metadata": {},
   "outputs": [
    {
     "name": "stdout",
     "output_type": "stream",
     "text": [
      "0\n",
      "se\n",
      "1\n",
      "E\n",
      "2\n",
      "um\n",
      "3\n",
      "mais\n",
      "4\n",
      "de\n",
      "5\n",
      "lá\n",
      "6\n",
      "vai\n",
      "7\n",
      "chamava\n",
      "8\n",
      "aço,\n",
      "9\n",
      "a\n"
     ]
    }
   ],
   "source": [
    "list_freq_words = []\n",
    "test_list = song.lyrics.split()\n",
    "temp = [wrd for sub in test_list for wrd in sub.split()]\n",
    "\n",
    "for i in range(0,10,1):\n",
    "    print(i)\n",
    "    #test_list = song.lyrics.split()\n",
    "\n",
    "    #temp = [wrd for sub in test_list for wrd in sub.split()]\n",
    "\n",
    "    # getting frequency\n",
    "    res = mode(temp)\n",
    "    print(res)\n",
    "    list_freq_words.append(res)\n",
    "    \n",
    "    # apagar palavra já usada\n",
    "    while (temp.count(res)):\n",
    "        temp.remove(res)\n",
    "    #temp.remove(res)"
   ]
  },
  {
   "cell_type": "markdown",
   "id": "621e33cf",
   "metadata": {},
   "source": [
    "# Busca por features de áudio (Spotify)"
   ]
  },
  {
   "cell_type": "markdown",
   "id": "572e394b",
   "metadata": {},
   "source": [
    "## Código original\n",
    "\n",
    "Pesquisa no spotify por artista e música e retorna a uri da música."
   ]
  },
  {
   "cell_type": "code",
   "execution_count": 3,
   "id": "c80404bc",
   "metadata": {},
   "outputs": [
    {
     "name": "stdout",
     "output_type": "stream",
     "text": [
      "spotify:track:0BCPKOYdS2jbQ8iyB56Zns\n"
     ]
    }
   ],
   "source": [
    "import spotipy\n",
    "from spotipy.oauth2 import SpotifyClientCredentials\n",
    "\n",
    "# Make your own Spotify app at https://beta.developer.spotify.com/dashboard/applications\n",
    "client_id = '0cbd7765b9634995877c5d78e483bf07'\n",
    "client_secret = 'f5e3b60f8471408eb6f195734ff8a775'\n",
    "title = 'Clocks'\n",
    "artist = 'Coldplay'\n",
    "\n",
    "client_credentials_manager = SpotifyClientCredentials(client_id=client_id, client_secret=client_secret)\n",
    "sp = spotipy.Spotify(client_credentials_manager=client_credentials_manager)\n",
    "sp.trace=False\n",
    "search_querry = title + ' ' + artist\n",
    "result = sp.search(search_querry)\n",
    "for i in result['tracks']['items']:\n",
    "    # Find a songh that matches title and artist\n",
    "    if (i['artists'][0]['name'] == artist) and (i['name'] == title):\n",
    "        print (i['uri'])\n",
    "        break\n",
    "else:\n",
    "    try:\n",
    "        # Just take the first song returned by the search (might be named differently)\n",
    "        print (result['tracks']['items'][0]['uri'])\n",
    "    except:\n",
    "        # No results for artist and title\n",
    "        print (\"Cannot Find URI\")"
   ]
  },
  {
   "cell_type": "code",
   "execution_count": null,
   "id": "22e00ebd",
   "metadata": {},
   "outputs": [],
   "source": [
    "import spotipy\n",
    "from spotipy.oauth2 import SpotifyClientCredentials\n",
    "\n",
    "# Make your own Spotify app at https://beta.developer.spotify.com/dashboard/applications\n",
    "client_id = '0cbd7765b9634995877c5d78e483bf07'\n",
    "client_secret = 'f5e3b60f8471408eb6f195734ff8a775'\n",
    "uri = 'spotify:track:0BCPKOYdS2jbQ8iyB56Zns'\n",
    "\n",
    "client_credentials_manager = SpotifyClientCredentials(client_id=client_id, client_secret=client_secret)\n",
    "sp = spotipy.Spotify(client_credentials_manager=client_credentials_manager)\n",
    "sp.trace=False\n",
    "features = sp.audio_features(uri)\n",
    "print ('Energy:', features[0]['energy'])\n",
    "print ('Calence:', features[0]['valence'])"
   ]
  },
  {
   "cell_type": "code",
   "execution_count": null,
   "id": "1ef4065b",
   "metadata": {},
   "outputs": [],
   "source": [
    "features"
   ]
  },
  {
   "cell_type": "markdown",
   "id": "b4c32e81",
   "metadata": {},
   "source": [
    "## Código modificado\n",
    "\n",
    "Pesquisa por artista e pega algumas músicas dele"
   ]
  },
  {
   "cell_type": "code",
   "execution_count": 18,
   "id": "c8605df3",
   "metadata": {},
   "outputs": [
    {
     "name": "stdout",
     "output_type": "stream",
     "text": [
      "Energy: 0.832\n",
      "Valence: 0.623\n",
      "Energy: 0.695\n",
      "Valence: 0.823\n",
      "Energy: 0.824\n",
      "Valence: 0.758\n",
      "Energy: 0.873\n",
      "Valence: 0.743\n",
      "Energy: 0.461\n",
      "Valence: 0.338\n",
      "Energy: 0.636\n",
      "Valence: 0.575\n",
      "Energy: 0.773\n",
      "Valence: 0.907\n",
      "Energy: 0.845\n",
      "Valence: 0.891\n",
      "Energy: 0.806\n",
      "Valence: 0.576\n",
      "Energy: 0.822\n",
      "Valence: 0.881\n"
     ]
    }
   ],
   "source": [
    "import spotipy\n",
    "from spotipy.oauth2 import SpotifyClientCredentials\n",
    "\n",
    "vetor_musicas = []\n",
    "valencia = []\n",
    "energia = []\n",
    "nomes_mus = []\n",
    "\n",
    "# Make your own Spotify app at https://beta.developer.spotify.com/dashboard/applications\n",
    "client_id = '0cbd7765b9634995877c5d78e483bf07'\n",
    "client_secret = 'f5e3b60f8471408eb6f195734ff8a775'\n",
    "title = 'Clocks'\n",
    "artist = 'Shakira'\n",
    "\n",
    "client_credentials_manager = SpotifyClientCredentials(client_id=client_id, client_secret=client_secret)\n",
    "sp = spotipy.Spotify(client_credentials_manager=client_credentials_manager)\n",
    "#sp.trace=False\n",
    "search_querry = artist #+ ' ' + title\n",
    "result = sp.search(search_querry)\n",
    "\n",
    "for i in result['tracks']['items']:\n",
    "    vetor_musicas.append(i['uri'])\n",
    "    features = sp.audio_features(i['uri'])\n",
    "    print ('Energy:', features[0]['energy'])\n",
    "    en = features[0]['energy']\n",
    "    energia.append(en)\n",
    "    print ('Valence:', features[0]['valence'])\n",
    "    val = features[0]['valence']\n",
    "    valencia.append(val)\n",
    "    \n",
    "    nom = i['name']\n",
    "    nomes_mus.append(nom)\n",
    "    \n",
    "    # Find a songh that matches title and artist\n",
    "    #if (i['artists'][0]['name'] == artist) and (i['name'] == title):\n",
    "    #    print (i['uri'])\n",
    "        #break\n",
    "#else:\n",
    "#    try:\n",
    "#        # Just take the first song returned by the search (might be named differently)\n",
    "#        print (result['tracks']['items'][0]['uri'])\n",
    "#    except:\n",
    "#        # No results for artist and title\n",
    "#        print (\"Cannot Find URI\")"
   ]
  },
  {
   "cell_type": "code",
   "execution_count": 19,
   "id": "3e476f02",
   "metadata": {},
   "outputs": [
    {
     "name": "stdout",
     "output_type": "stream",
     "text": [
      "spotify:track:7D0RhFcb3CrfPuTJ0obrod\n",
      "spotify:track:1mea3bSkSGXuIRvnydlB5b\n",
      "spotify:track:0BCPKOYdS2jbQ8iyB56Zns\n",
      "spotify:track:0FDzzruyVECATHXKHFs9eJ\n",
      "spotify:track:1a3G9SNslcKsPAOuIikaxd\n",
      "spotify:track:3AJwUDP919kvQ9QcozQPxg\n",
      "spotify:track:2wleRXcIPqltoDPLMH5WDa\n",
      "spotify:track:6RUKPb4LETWmmr3iAEQktW\n",
      "spotify:track:75JFxkI2RXiU7L9VXzMkle\n",
      "spotify:track:6nek1Nin9q48AVZcWs9e9D\n"
     ]
    }
   ],
   "source": [
    "for i in result['tracks']['items']:\n",
    "    print(i['uri'])"
   ]
  },
  {
   "cell_type": "markdown",
   "id": "5d56a602",
   "metadata": {},
   "source": [
    "### Cria cada dataframe de cada banda/artista"
   ]
  },
  {
   "cell_type": "code",
   "execution_count": 30,
   "id": "ac5192c9",
   "metadata": {
    "scrolled": true
   },
   "outputs": [],
   "source": [
    "#df_cp = pd.DataFrame(data={\"URI\":vetor_musicas,\"Valencia\":valencia,\"Energia\":energia,\"Nomes\":nomes_mus})\n",
    "#df_id = pd.DataFrame(data={\"URI\":vetor_musicas,\"Valencia\":valencia,\"Energia\":energia,\"Nomes\":nomes_mus})\n",
    "#df_enya = pd.DataFrame(data={\"URI\":vetor_musicas,\"Valencia\":valencia,\"Energia\":energia,\"Nomes\":nomes_mus})\n",
    "df_shak = pd.DataFrame(data={\"URI\":vetor_musicas,\"Valencia\":valencia,\"Energia\":energia,\"Nomes\":nomes_mus})"
   ]
  },
  {
   "cell_type": "code",
   "execution_count": 15,
   "id": "dcf06779",
   "metadata": {},
   "outputs": [
    {
     "data": {
      "text/plain": [
       "Text(0, 0.5, 'valence')"
      ]
     },
     "execution_count": 15,
     "metadata": {},
     "output_type": "execute_result"
    },
    {
     "data": {
      "image/png": "[encoded data removed]",
      "text/plain": [
       "<Figure size 432x288 with 1 Axes>"
      ]
     },
     "metadata": {
      "needs_background": "light"
     },
     "output_type": "display_data"
    }
   ],
   "source": [
    "plt.scatter(df_cp['Energia'],df_cp['Valencia'])\n",
    "plt.xlabel(\"energy\")\n",
    "plt.ylabel(\"valence\")"
   ]
  },
  {
   "cell_type": "code",
   "execution_count": 31,
   "id": "d46d8fec",
   "metadata": {},
   "outputs": [
    {
     "data": {
      "text/plain": [
       "Text(0, 0.5, 'valence')"
      ]
     },
     "execution_count": 31,
     "metadata": {},
     "output_type": "execute_result"
    },
    {
     "data": {
      "image/png": "[encoded data removed]",
      "text/plain": [
       "<Figure size 432x288 with 1 Axes>"
      ]
     },
     "metadata": {
      "needs_background": "light"
     },
     "output_type": "display_data"
    }
   ],
   "source": [
    "plt.scatter(df_id['Energia'],df_id['Valencia'],label='Imagine Dragons')\n",
    "plt.scatter(df_cp['Energia'],df_cp['Valencia'],label='Coldplay')\n",
    "plt.scatter(df_enya['Energia'],df_enya['Valencia'],label='Enya')\n",
    "plt.scatter(df_shak['Energia'],df_shak['Valencia'],label='Shakira')\n",
    "plt.legend()\n",
    "plt.xlabel(\"energy\")\n",
    "plt.ylabel(\"valence\")"
   ]
  },
  {
   "cell_type": "markdown",
   "id": "1531a294",
   "metadata": {},
   "source": [
    "## Código automatizado"
   ]
  },
  {
   "cell_type": "code",
   "execution_count": 238,
   "id": "563a9faf",
   "metadata": {},
   "outputs": [
    {
     "name": "stdout",
     "output_type": "stream",
     "text": [
      "Digite o nome da banda/artista: Coldplay\n",
      "Digite o nome da música (ou palavra chave): Head full of dreams\n"
     ]
    }
   ],
   "source": [
    "artist = input(\"Digite o nome da banda/artista: \")\n",
    "title = input(\"Digite o nome da música (ou palavra chave): \")"
   ]
  },
  {
   "cell_type": "code",
   "execution_count": 246,
   "id": "72ed5795",
   "metadata": {},
   "outputs": [],
   "source": [
    "df_nova_mus = pd.DataFrame(columns=['name','artist','uri','danceability', 'acousticness', 'energy', 'instrumentalness','liveness', 'valence', 'loudness', 'speechiness', 'tempo'])"
   ]
  },
  {
   "cell_type": "code",
   "execution_count": 254,
   "id": "a64be416",
   "metadata": {},
   "outputs": [
    {
     "name": "stdout",
     "output_type": "stream",
     "text": [
      "{'danceability': 0.449, 'energy': 0.92, 'key': 11, 'loudness': -4.982, 'mode': 1, 'speechiness': 0.0737, 'acousticness': 0.0021, 'instrumentalness': 0.0167, 'liveness': 0.334, 'valence': 0.0772, 'tempo': 122.984, 'type': 'audio_features', 'id': '6f49kbOuQSOsStBpyGvQfA', 'uri': 'spotify:track:6f49kbOuQSOsStBpyGvQfA', 'track_href': 'https://api.spotify.com/v1/tracks/6f49kbOuQSOsStBpyGvQfA', 'analysis_url': 'https://api.spotify.com/v1/audio-analysis/6f49kbOuQSOsStBpyGvQfA', 'duration_ms': 223773, 'time_signature': 4}\n",
      "A Head Full of Dreams\n",
      "Coldplay\n",
      "spotify:track:6f49kbOuQSOsStBpyGvQfA\n"
     ]
    }
   ],
   "source": [
    "vetor_musicas = []\n",
    "valencia = []\n",
    "energia = []\n",
    "nomes_mus = []\n",
    "\n",
    "# Make your own Spotify app at https://beta.developer.spotify.com/dashboard/applications\n",
    "client_id = '0cbd7765b9634995877c5d78e483bf07'\n",
    "client_secret = 'f5e3b60f8471408eb6f195734ff8a775'\n",
    "#title = 'Clocks'\n",
    "#artist = 'Shakira'\n",
    "\n",
    "client_credentials_manager = SpotifyClientCredentials(client_id=client_id, client_secret=client_secret)\n",
    "sp = spotipy.Spotify(client_credentials_manager=client_credentials_manager)\n",
    "sp.trace=False\n",
    "search_querry = artist + ' ' + title\n",
    "result = sp.search(search_querry)\n",
    "\n",
    "# Pega o primeiro resultado da busca\n",
    "prim_resp = result['tracks']['items'][0]\n",
    "uri = prim_resp['uri']\n",
    "features = sp.audio_features(uri)\n",
    "print(features[0])#['valence'])\n",
    "\n",
    "print(prim_resp['name'])\n",
    "print(prim_resp['artists'][0]['name'])\n",
    "print(uri)\n",
    "\n",
    "# Informações da música\n",
    "df_nova_mus.loc[0,'name'] = prim_resp['name']\n",
    "df_nova_mus.loc[0,'artist'] = prim_resp['artists'][0]['name']\n",
    "df_nova_mus.loc[0,'uri'] = uri\n",
    "\n",
    "# Puxar as features: 'danceability', 'acousticness', 'energy', 'instrumentalness','liveness', 'valence', 'loudness', \n",
    "# 'speechiness', 'tempo'\n",
    "df_nova_mus.loc[0,'danceability'] = features[0]['danceability']\n",
    "df_nova_mus.loc[0,'acousticness'] = features[0]['acousticness']\n",
    "df_nova_mus.loc[0,'energy'] = features[0]['energy']\n",
    "df_nova_mus.loc[0,'instrumentalness'] = features[0]['instrumentalness']\n",
    "df_nova_mus.loc[0,'liveness'] = features[0]['liveness']\n",
    "df_nova_mus.loc[0,'valence'] = features[0]['valence']\n",
    "df_nova_mus.loc[0,'loudness'] = features[0]['loudness']\n",
    "df_nova_mus.loc[0,'speechiness'] = features[0]['speechiness']\n",
    "df_nova_mus.loc[0,'tempo'] = features[0]['tempo']"
   ]
  },
  {
   "cell_type": "code",
   "execution_count": 255,
   "id": "a47c45a1",
   "metadata": {},
   "outputs": [
    {
     "data": {
      "text/html": [
       "<div>\n",
       "<style scoped>\n",
       "    .dataframe tbody tr th:only-of-type {\n",
       "        vertical-align: middle;\n",
       "    }\n",
       "\n",
       "    .dataframe tbody tr th {\n",
       "        vertical-align: top;\n",
       "    }\n",
       "\n",
       "    .dataframe thead th {\n",
       "        text-align: right;\n",
       "    }\n",
       "</style>\n",
       "<table border=\"1\" class=\"dataframe\">\n",
       "  <thead>\n",
       "    <tr style=\"text-align: right;\">\n",
       "      <th></th>\n",
       "      <th>name</th>\n",
       "      <th>artist</th>\n",
       "      <th>uri</th>\n",
       "      <th>danceability</th>\n",
       "      <th>acousticness</th>\n",
       "      <th>energy</th>\n",
       "      <th>instrumentalness</th>\n",
       "      <th>liveness</th>\n",
       "      <th>valence</th>\n",
       "      <th>loudness</th>\n",
       "      <th>speechiness</th>\n",
       "      <th>tempo</th>\n",
       "    </tr>\n",
       "  </thead>\n",
       "  <tbody>\n",
       "    <tr>\n",
       "      <th>0</th>\n",
       "      <td>A Head Full of Dreams</td>\n",
       "      <td>Coldplay</td>\n",
       "      <td>spotify:track:6f49kbOuQSOsStBpyGvQfA</td>\n",
       "      <td>0.449</td>\n",
       "      <td>0.0021</td>\n",
       "      <td>0.92</td>\n",
       "      <td>0.0167</td>\n",
       "      <td>0.334</td>\n",
       "      <td>0.0772</td>\n",
       "      <td>-4.982</td>\n",
       "      <td>0.0737</td>\n",
       "      <td>122.984</td>\n",
       "    </tr>\n",
       "  </tbody>\n",
       "</table>\n",
       "</div>"
      ],
      "text/plain": [
       "                    name    artist                                   uri  \\\n",
       "0  A Head Full of Dreams  Coldplay  spotify:track:6f49kbOuQSOsStBpyGvQfA   \n",
       "\n",
       "  danceability acousticness energy instrumentalness liveness valence loudness  \\\n",
       "0        0.449       0.0021   0.92           0.0167    0.334  0.0772   -4.982   \n",
       "\n",
       "  speechiness    tempo  \n",
       "0      0.0737  122.984  "
      ]
     },
     "execution_count": 255,
     "metadata": {},
     "output_type": "execute_result"
    }
   ],
   "source": [
    "df_nova_mus"
   ]
  },
  {
   "cell_type": "markdown",
   "id": "05b5b5ae",
   "metadata": {},
   "source": [
    "# Modelo para reconhecimento de emoções em músicas"
   ]
  },
  {
   "cell_type": "code",
   "execution_count": 19,
   "id": "872f3e9b",
   "metadata": {},
   "outputs": [
    {
     "name": "stderr",
     "output_type": "stream",
     "text": [
      "C:\\Users\\sara-\\anaconda3\\envs\\sara\\lib\\site-packages\\xgboost\\compat.py:36: FutureWarning: pandas.Int64Index is deprecated and will be removed from pandas in a future version. Use pandas.Index with the appropriate dtype instead.\n",
      "  from pandas import MultiIndex, Int64Index\n"
     ]
    }
   ],
   "source": [
    "from sklearn import tree\n",
    "from sklearn.model_selection import train_test_split\n",
    "import xgboost as xgb\n",
    "\n",
    "from sklearn.metrics import plot_confusion_matrix, classification_report,confusion_matrix,accuracy_score\n",
    "\n",
    "import scikitplot as skplt\n",
    "\n",
    "from sklearn.preprocessing import LabelEncoder,MinMaxScaler"
   ]
  },
  {
   "cell_type": "code",
   "execution_count": 22,
   "id": "0f77a09e",
   "metadata": {},
   "outputs": [],
   "source": [
    "df_ = pd.read_excel(\"dados_moods.xlsx\", engine=\"openpyxl\")"
   ]
  },
  {
   "cell_type": "markdown",
   "id": "8bd89fc1",
   "metadata": {},
   "source": [
    "## Análise da base"
   ]
  },
  {
   "cell_type": "code",
   "execution_count": 23,
   "id": "c01592da",
   "metadata": {},
   "outputs": [
    {
     "data": {
      "text/plain": [
       "name                 object\n",
       "album                object\n",
       "artist               object\n",
       "id                   object\n",
       "release_date         object\n",
       "popularity           object\n",
       "length               object\n",
       "danceability         object\n",
       "acousticness         object\n",
       "energy              float64\n",
       "instrumentalness    float64\n",
       "liveness            float64\n",
       "valence             float64\n",
       "loudness            float64\n",
       "speechiness         float64\n",
       "tempo               float64\n",
       "key                 float64\n",
       "time_signature        int64\n",
       "mood                 object\n",
       "Unnamed: 19          object\n",
       "Unnamed: 20          object\n",
       "Unnamed: 21         float64\n",
       "Unnamed: 22          object\n",
       "dtype: object"
      ]
     },
     "execution_count": 23,
     "metadata": {},
     "output_type": "execute_result"
    }
   ],
   "source": [
    "df_.dtypes#head()"
   ]
  },
  {
   "cell_type": "code",
   "execution_count": 60,
   "id": "4c22fcb2",
   "metadata": {
    "scrolled": true
   },
   "outputs": [
    {
     "data": {
      "text/plain": [
       "Index(['name', 'album', 'artist', 'id', 'release_date', 'popularity', 'length',\n",
       "       'danceability', 'acousticness', 'energy', 'instrumentalness',\n",
       "       'liveness', 'valence', 'loudness', 'speechiness', 'tempo', 'key',\n",
       "       'time_signature', 'mood', 'Unnamed: 19', 'Unnamed: 20', 'Unnamed: 21',\n",
       "       'Unnamed: 22'],\n",
       "      dtype='object')"
      ]
     },
     "execution_count": 60,
     "metadata": {},
     "output_type": "execute_result"
    }
   ],
   "source": [
    "df_.columns"
   ]
  },
  {
   "cell_type": "code",
   "execution_count": 25,
   "id": "d5bf74dc",
   "metadata": {},
   "outputs": [
    {
     "data": {
      "text/plain": [
       "Sad          192\n",
       "Calm         192\n",
       "Energetic    152\n",
       "Happy        137\n",
       "4              6\n",
       "3              3\n",
       "9              1\n",
       "0              1\n",
       "0.0334         1\n",
       "1              1\n",
       "Name: mood, dtype: int64"
      ]
     },
     "execution_count": 25,
     "metadata": {},
     "output_type": "execute_result"
    }
   ],
   "source": [
    "df_['mood'].value_counts()"
   ]
  },
  {
   "cell_type": "code",
   "execution_count": 26,
   "id": "3d7fafea",
   "metadata": {},
   "outputs": [
    {
     "data": {
      "text/plain": [
       "Text(0.5, 1.0, 'Dispersão de músicas felizes e tristes')"
      ]
     },
     "execution_count": 26,
     "metadata": {},
     "output_type": "execute_result"
    },
    {
     "data": {
      "image/png": "[encoded data removed]",
      "text/plain": [
       "<Figure size 432x288 with 1 Axes>"
      ]
     },
     "metadata": {
      "needs_background": "light"
     },
     "output_type": "display_data"
    }
   ],
   "source": [
    "plt.scatter(df_[df_['mood']=='Sad']['energy'],df_[df_['mood']=='Sad']['valence'],label='Sad')\n",
    "plt.scatter(df_[df_['mood']=='Happy']['energy'],df_[df_['mood']=='Happy']['valence'],label='Happy')\n",
    "plt.legend()\n",
    "plt.xlabel(\"Energy\")\n",
    "plt.ylabel(\"Valence\")\n",
    "plt.title(\"Dispersão de músicas felizes e tristes\")"
   ]
  },
  {
   "cell_type": "code",
   "execution_count": 27,
   "id": "8d6a5d99",
   "metadata": {},
   "outputs": [
    {
     "data": {
      "text/plain": [
       "Text(0.5, 1.0, 'Dispersão das músicas enérgicas e calmas')"
      ]
     },
     "execution_count": 27,
     "metadata": {},
     "output_type": "execute_result"
    },
    {
     "data": {
      "image/png": "[encoded data removed]",
      "text/plain": [
       "<Figure size 432x288 with 1 Axes>"
      ]
     },
     "metadata": {
      "needs_background": "light"
     },
     "output_type": "display_data"
    }
   ],
   "source": [
    "plt.scatter(df_[df_['mood']=='Calm']['energy'],df_[df_['mood']=='Calm']['valence'],label='Calm')\n",
    "plt.scatter(df_[df_['mood']=='Energetic']['energy'],df_[df_['mood']=='Energetic']['valence'],label='Energetic')\n",
    "plt.legend()\n",
    "plt.xlabel(\"Energy\")\n",
    "plt.ylabel(\"Valence\")\n",
    "plt.title(\"Dispersão das músicas enérgicas e calmas\")"
   ]
  },
  {
   "cell_type": "markdown",
   "id": "a34476f5",
   "metadata": {},
   "source": [
    "## Modelagem"
   ]
  },
  {
   "cell_type": "code",
   "execution_count": 29,
   "id": "ef3a8e36",
   "metadata": {},
   "outputs": [],
   "source": [
    "df_ = df_[(df_['mood']=='Sad') | (df_['mood']=='Calm') | (df_['mood']=='Energetic') | (df_['mood']=='Happy')]"
   ]
  },
  {
   "cell_type": "code",
   "execution_count": 30,
   "id": "6bf08de6",
   "metadata": {},
   "outputs": [],
   "source": [
    "# Tratar colunas\n",
    "\n",
    "df_['danceability'] = df_['danceability'].astype(\"float\")\n",
    "df_['acousticness'] = df_['acousticness'].astype(\"float\")"
   ]
  },
  {
   "cell_type": "code",
   "execution_count": 31,
   "id": "1e0b2618",
   "metadata": {},
   "outputs": [],
   "source": [
    "X = df_[['danceability', 'acousticness', 'energy', 'instrumentalness',\n",
    "         'liveness', 'valence', 'loudness', 'speechiness', 'tempo']]\n",
    "y = df_['mood']"
   ]
  },
  {
   "cell_type": "code",
   "execution_count": 32,
   "id": "4753a6e4",
   "metadata": {},
   "outputs": [],
   "source": [
    "#Encode the labels (targets)\n",
    "encoder = LabelEncoder()\n",
    "encoder.fit(y)\n",
    "y = encoder.transform(y)"
   ]
  },
  {
   "cell_type": "code",
   "execution_count": 33,
   "id": "c946bbb8",
   "metadata": {},
   "outputs": [
    {
     "data": {
      "text/html": [
       "<div>\n",
       "<style scoped>\n",
       "    .dataframe tbody tr th:only-of-type {\n",
       "        vertical-align: middle;\n",
       "    }\n",
       "\n",
       "    .dataframe tbody tr th {\n",
       "        vertical-align: top;\n",
       "    }\n",
       "\n",
       "    .dataframe thead th {\n",
       "        text-align: right;\n",
       "    }\n",
       "</style>\n",
       "<table border=\"1\" class=\"dataframe\">\n",
       "  <thead>\n",
       "    <tr style=\"text-align: right;\">\n",
       "      <th></th>\n",
       "      <th>mood</th>\n",
       "      <th>encode</th>\n",
       "    </tr>\n",
       "  </thead>\n",
       "  <tbody>\n",
       "    <tr>\n",
       "      <th>5</th>\n",
       "      <td>Calm</td>\n",
       "      <td>0</td>\n",
       "    </tr>\n",
       "    <tr>\n",
       "      <th>4</th>\n",
       "      <td>Energetic</td>\n",
       "      <td>1</td>\n",
       "    </tr>\n",
       "    <tr>\n",
       "      <th>0</th>\n",
       "      <td>Happy</td>\n",
       "      <td>2</td>\n",
       "    </tr>\n",
       "    <tr>\n",
       "      <th>1</th>\n",
       "      <td>Sad</td>\n",
       "      <td>3</td>\n",
       "    </tr>\n",
       "  </tbody>\n",
       "</table>\n",
       "</div>"
      ],
      "text/plain": [
       "        mood  encode\n",
       "5       Calm       0\n",
       "4  Energetic       1\n",
       "0      Happy       2\n",
       "1        Sad       3"
      ]
     },
     "execution_count": 33,
     "metadata": {},
     "output_type": "execute_result"
    }
   ],
   "source": [
    "target = pd.DataFrame({'mood':df_['mood'].tolist(),'encode':y}).drop_duplicates().sort_values(['encode'],ascending=True)\n",
    "target"
   ]
  },
  {
   "cell_type": "code",
   "execution_count": 34,
   "id": "962cd3dc",
   "metadata": {},
   "outputs": [],
   "source": [
    "X_train, X_test, y_train, y_test = train_test_split(X, y, test_size=0.33, random_state=42)"
   ]
  },
  {
   "cell_type": "markdown",
   "id": "5b57393c",
   "metadata": {},
   "source": [
    "### Decision Tree"
   ]
  },
  {
   "cell_type": "code",
   "execution_count": 51,
   "id": "adbe8f4f",
   "metadata": {},
   "outputs": [],
   "source": [
    "clf = tree.DecisionTreeClassifier(random_state=0,max_depth=3)"
   ]
  },
  {
   "cell_type": "code",
   "execution_count": 52,
   "id": "0c5f6816",
   "metadata": {},
   "outputs": [
    {
     "data": {
      "text/plain": [
       "DecisionTreeClassifier(max_depth=3, random_state=0)"
      ]
     },
     "execution_count": 52,
     "metadata": {},
     "output_type": "execute_result"
    }
   ],
   "source": [
    "clf.fit(X_train,y_train)"
   ]
  },
  {
   "cell_type": "code",
   "execution_count": 53,
   "id": "3bc21906",
   "metadata": {},
   "outputs": [],
   "source": [
    "y_pred = clf.predict(X_test)"
   ]
  },
  {
   "cell_type": "code",
   "execution_count": 54,
   "id": "d7fa6aec",
   "metadata": {},
   "outputs": [
    {
     "name": "stderr",
     "output_type": "stream",
     "text": [
      "C:\\Users\\sara-\\anaconda3\\envs\\sara\\lib\\site-packages\\sklearn\\utils\\deprecation.py:87: FutureWarning: Function plot_confusion_matrix is deprecated; Function `plot_confusion_matrix` is deprecated in 1.0 and will be removed in 1.2. Use one of the class methods: ConfusionMatrixDisplay.from_predictions or ConfusionMatrixDisplay.from_estimator.\n",
      "  warnings.warn(msg, category=FutureWarning)\n"
     ]
    },
    {
     "data": {
      "image/png": "[encoded data removed]",
      "text/plain": [
       "<Figure size 432x288 with 2 Axes>"
      ]
     },
     "metadata": {
      "needs_background": "light"
     },
     "output_type": "display_data"
    }
   ],
   "source": [
    "plot_confusion_matrix(clf, X_test, y_test)  \n",
    "plt.show()"
   ]
  },
  {
   "cell_type": "code",
   "execution_count": 55,
   "id": "335644a4",
   "metadata": {},
   "outputs": [],
   "source": [
    "proba = clf.predict_proba(X_test)"
   ]
  },
  {
   "cell_type": "code",
   "execution_count": 56,
   "id": "38db1d38",
   "metadata": {},
   "outputs": [
    {
     "data": {
      "text/plain": [
       "array([[0.06603774, 0.        , 0.03773585, 0.89622642],\n",
       "       [0.        , 0.10714286, 0.42857143, 0.46428571],\n",
       "       [0.06603774, 0.        , 0.03773585, 0.89622642],\n",
       "       [0.06603774, 0.        , 0.03773585, 0.89622642],\n",
       "       [0.98360656, 0.        , 0.        , 0.01639344],\n",
       "       [0.06603774, 0.        , 0.03773585, 0.89622642],\n",
       "       [0.98360656, 0.        , 0.        , 0.01639344],\n",
       "       [0.06603774, 0.        , 0.03773585, 0.89622642],\n",
       "       [0.        , 0.18181818, 0.72727273, 0.09090909],\n",
       "       [0.06603774, 0.        , 0.03773585, 0.89622642],\n",
       "       [0.98360656, 0.        , 0.        , 0.01639344],\n",
       "       [0.        , 0.32954545, 0.54545455, 0.125     ],\n",
       "       [0.06603774, 0.        , 0.03773585, 0.89622642],\n",
       "       [0.06603774, 0.        , 0.03773585, 0.89622642],\n",
       "       [0.98360656, 0.        , 0.        , 0.01639344],\n",
       "       [0.06603774, 0.        , 0.03773585, 0.89622642],\n",
       "       [0.06603774, 0.        , 0.03773585, 0.89622642],\n",
       "       [0.        , 0.10714286, 0.42857143, 0.46428571],\n",
       "       [0.        , 0.7816092 , 0.20689655, 0.01149425],\n",
       "       [0.        , 0.32954545, 0.54545455, 0.125     ],\n",
       "       [0.        , 0.32954545, 0.54545455, 0.125     ],\n",
       "       [0.98360656, 0.        , 0.        , 0.01639344],\n",
       "       [0.        , 0.10714286, 0.42857143, 0.46428571],\n",
       "       [0.98360656, 0.        , 0.        , 0.01639344],\n",
       "       [0.98360656, 0.        , 0.        , 0.01639344],\n",
       "       [0.98360656, 0.        , 0.        , 0.01639344],\n",
       "       [0.        , 0.32954545, 0.54545455, 0.125     ],\n",
       "       [0.        , 0.32954545, 0.54545455, 0.125     ],\n",
       "       [0.        , 0.7816092 , 0.20689655, 0.01149425],\n",
       "       [0.98360656, 0.        , 0.        , 0.01639344],\n",
       "       [0.98360656, 0.        , 0.        , 0.01639344],\n",
       "       [0.        , 0.7816092 , 0.20689655, 0.01149425],\n",
       "       [0.        , 0.        , 0.66666667, 0.33333333],\n",
       "       [0.98360656, 0.        , 0.        , 0.01639344],\n",
       "       [0.98360656, 0.        , 0.        , 0.01639344],\n",
       "       [0.        , 0.7816092 , 0.20689655, 0.01149425],\n",
       "       [0.06603774, 0.        , 0.03773585, 0.89622642],\n",
       "       [0.        , 0.10714286, 0.42857143, 0.46428571],\n",
       "       [0.        , 0.7816092 , 0.20689655, 0.01149425],\n",
       "       [0.        , 0.32954545, 0.54545455, 0.125     ],\n",
       "       [0.98360656, 0.        , 0.        , 0.01639344],\n",
       "       [0.98360656, 0.        , 0.        , 0.01639344],\n",
       "       [0.        , 0.18181818, 0.72727273, 0.09090909],\n",
       "       [0.06603774, 0.        , 0.03773585, 0.89622642],\n",
       "       [0.        , 0.32954545, 0.54545455, 0.125     ],\n",
       "       [0.98360656, 0.        , 0.        , 0.01639344],\n",
       "       [0.98360656, 0.        , 0.        , 0.01639344],\n",
       "       [0.98360656, 0.        , 0.        , 0.01639344],\n",
       "       [0.06603774, 0.        , 0.03773585, 0.89622642],\n",
       "       [0.        , 0.32954545, 0.54545455, 0.125     ],\n",
       "       [0.        , 0.7816092 , 0.20689655, 0.01149425],\n",
       "       [0.98360656, 0.        , 0.        , 0.01639344],\n",
       "       [0.4       , 0.        , 0.        , 0.6       ],\n",
       "       [0.        , 0.        , 0.66666667, 0.33333333],\n",
       "       [0.        , 0.18181818, 0.72727273, 0.09090909],\n",
       "       [0.06603774, 0.        , 0.03773585, 0.89622642],\n",
       "       [0.98360656, 0.        , 0.        , 0.01639344],\n",
       "       [0.        , 0.7816092 , 0.20689655, 0.01149425],\n",
       "       [0.        , 0.7816092 , 0.20689655, 0.01149425],\n",
       "       [0.        , 0.32954545, 0.54545455, 0.125     ],\n",
       "       [0.98360656, 0.        , 0.        , 0.01639344],\n",
       "       [0.        , 0.32954545, 0.54545455, 0.125     ],\n",
       "       [0.98360656, 0.        , 0.        , 0.01639344],\n",
       "       [0.        , 0.7816092 , 0.20689655, 0.01149425],\n",
       "       [0.        , 0.32954545, 0.54545455, 0.125     ],\n",
       "       [0.        , 0.10714286, 0.42857143, 0.46428571],\n",
       "       [0.        , 0.32954545, 0.54545455, 0.125     ],\n",
       "       [0.06603774, 0.        , 0.03773585, 0.89622642],\n",
       "       [0.06603774, 0.        , 0.03773585, 0.89622642],\n",
       "       [0.        , 0.18181818, 0.72727273, 0.09090909],\n",
       "       [0.        , 0.7816092 , 0.20689655, 0.01149425],\n",
       "       [0.06603774, 0.        , 0.03773585, 0.89622642],\n",
       "       [0.98360656, 0.        , 0.        , 0.01639344],\n",
       "       [0.        , 0.10714286, 0.42857143, 0.46428571],\n",
       "       [0.98360656, 0.        , 0.        , 0.01639344],\n",
       "       [0.06603774, 0.        , 0.03773585, 0.89622642],\n",
       "       [0.06603774, 0.        , 0.03773585, 0.89622642],\n",
       "       [0.        , 0.10714286, 0.42857143, 0.46428571],\n",
       "       [0.06603774, 0.        , 0.03773585, 0.89622642],\n",
       "       [0.        , 0.18181818, 0.72727273, 0.09090909],\n",
       "       [0.        , 0.7816092 , 0.20689655, 0.01149425],\n",
       "       [0.        , 0.18181818, 0.72727273, 0.09090909],\n",
       "       [0.        , 0.7816092 , 0.20689655, 0.01149425],\n",
       "       [0.06603774, 0.        , 0.03773585, 0.89622642],\n",
       "       [0.        , 0.32954545, 0.54545455, 0.125     ],\n",
       "       [0.98360656, 0.        , 0.        , 0.01639344],\n",
       "       [0.        , 0.7816092 , 0.20689655, 0.01149425],\n",
       "       [0.        , 0.32954545, 0.54545455, 0.125     ],\n",
       "       [0.06603774, 0.        , 0.03773585, 0.89622642],\n",
       "       [0.98360656, 0.        , 0.        , 0.01639344],\n",
       "       [0.        , 0.10714286, 0.42857143, 0.46428571],\n",
       "       [0.        , 0.10714286, 0.42857143, 0.46428571],\n",
       "       [0.98360656, 0.        , 0.        , 0.01639344],\n",
       "       [0.        , 0.7816092 , 0.20689655, 0.01149425],\n",
       "       [0.        , 0.32954545, 0.54545455, 0.125     ],\n",
       "       [0.        , 0.18181818, 0.72727273, 0.09090909],\n",
       "       [0.06603774, 0.        , 0.03773585, 0.89622642],\n",
       "       [0.4       , 0.        , 0.        , 0.6       ],\n",
       "       [0.98360656, 0.        , 0.        , 0.01639344],\n",
       "       [0.98360656, 0.        , 0.        , 0.01639344],\n",
       "       [0.        , 0.32954545, 0.54545455, 0.125     ],\n",
       "       [0.98360656, 0.        , 0.        , 0.01639344],\n",
       "       [0.        , 0.32954545, 0.54545455, 0.125     ],\n",
       "       [0.98360656, 0.        , 0.        , 0.01639344],\n",
       "       [0.        , 0.10714286, 0.42857143, 0.46428571],\n",
       "       [0.        , 0.32954545, 0.54545455, 0.125     ],\n",
       "       [0.        , 0.7816092 , 0.20689655, 0.01149425],\n",
       "       [0.        , 0.18181818, 0.72727273, 0.09090909],\n",
       "       [0.        , 0.7816092 , 0.20689655, 0.01149425],\n",
       "       [0.06603774, 0.        , 0.03773585, 0.89622642],\n",
       "       [0.06603774, 0.        , 0.03773585, 0.89622642],\n",
       "       [0.98360656, 0.        , 0.        , 0.01639344],\n",
       "       [0.        , 0.32954545, 0.54545455, 0.125     ],\n",
       "       [0.06603774, 0.        , 0.03773585, 0.89622642],\n",
       "       [0.98360656, 0.        , 0.        , 0.01639344],\n",
       "       [0.        , 0.7816092 , 0.20689655, 0.01149425],\n",
       "       [0.4       , 0.        , 0.        , 0.6       ],\n",
       "       [0.98360656, 0.        , 0.        , 0.01639344],\n",
       "       [0.06603774, 0.        , 0.03773585, 0.89622642],\n",
       "       [0.06603774, 0.        , 0.03773585, 0.89622642],\n",
       "       [0.        , 0.7816092 , 0.20689655, 0.01149425],\n",
       "       [0.98360656, 0.        , 0.        , 0.01639344],\n",
       "       [0.4       , 0.        , 0.        , 0.6       ],\n",
       "       [0.        , 0.32954545, 0.54545455, 0.125     ],\n",
       "       [0.        , 0.7816092 , 0.20689655, 0.01149425],\n",
       "       [0.        , 0.7816092 , 0.20689655, 0.01149425],\n",
       "       [0.06603774, 0.        , 0.03773585, 0.89622642],\n",
       "       [0.06603774, 0.        , 0.03773585, 0.89622642],\n",
       "       [0.06603774, 0.        , 0.03773585, 0.89622642],\n",
       "       [0.        , 0.7816092 , 0.20689655, 0.01149425],\n",
       "       [0.06603774, 0.        , 0.03773585, 0.89622642],\n",
       "       [0.98360656, 0.        , 0.        , 0.01639344],\n",
       "       [0.        , 0.7816092 , 0.20689655, 0.01149425],\n",
       "       [0.        , 0.7816092 , 0.20689655, 0.01149425],\n",
       "       [0.        , 0.18181818, 0.72727273, 0.09090909],\n",
       "       [0.        , 0.10714286, 0.42857143, 0.46428571],\n",
       "       [0.        , 0.32954545, 0.54545455, 0.125     ],\n",
       "       [0.06603774, 0.        , 0.03773585, 0.89622642],\n",
       "       [0.06603774, 0.        , 0.03773585, 0.89622642],\n",
       "       [0.        , 0.32954545, 0.54545455, 0.125     ],\n",
       "       [0.        , 0.32954545, 0.54545455, 0.125     ],\n",
       "       [0.98360656, 0.        , 0.        , 0.01639344],\n",
       "       [0.4       , 0.        , 0.        , 0.6       ],\n",
       "       [0.        , 0.32954545, 0.54545455, 0.125     ],\n",
       "       [0.        , 0.7816092 , 0.20689655, 0.01149425],\n",
       "       [0.        , 0.7816092 , 0.20689655, 0.01149425],\n",
       "       [0.06603774, 0.        , 0.03773585, 0.89622642],\n",
       "       [0.98360656, 0.        , 0.        , 0.01639344],\n",
       "       [0.98360656, 0.        , 0.        , 0.01639344],\n",
       "       [0.        , 0.7816092 , 0.20689655, 0.01149425],\n",
       "       [0.06603774, 0.        , 0.03773585, 0.89622642],\n",
       "       [0.98360656, 0.        , 0.        , 0.01639344],\n",
       "       [0.        , 0.32954545, 0.54545455, 0.125     ],\n",
       "       [0.06603774, 0.        , 0.03773585, 0.89622642],\n",
       "       [0.        , 0.7816092 , 0.20689655, 0.01149425],\n",
       "       [0.        , 0.32954545, 0.54545455, 0.125     ],\n",
       "       [0.        , 0.10714286, 0.42857143, 0.46428571],\n",
       "       [0.        , 0.7816092 , 0.20689655, 0.01149425],\n",
       "       [0.06603774, 0.        , 0.03773585, 0.89622642],\n",
       "       [0.06603774, 0.        , 0.03773585, 0.89622642],\n",
       "       [0.        , 0.32954545, 0.54545455, 0.125     ],\n",
       "       [0.4       , 0.        , 0.        , 0.6       ],\n",
       "       [0.        , 0.32954545, 0.54545455, 0.125     ],\n",
       "       [0.        , 0.10714286, 0.42857143, 0.46428571],\n",
       "       [0.        , 0.32954545, 0.54545455, 0.125     ],\n",
       "       [0.        , 0.32954545, 0.54545455, 0.125     ],\n",
       "       [0.98360656, 0.        , 0.        , 0.01639344],\n",
       "       [0.06603774, 0.        , 0.03773585, 0.89622642],\n",
       "       [0.        , 0.7816092 , 0.20689655, 0.01149425],\n",
       "       [0.        , 0.32954545, 0.54545455, 0.125     ],\n",
       "       [0.98360656, 0.        , 0.        , 0.01639344],\n",
       "       [0.        , 0.32954545, 0.54545455, 0.125     ],\n",
       "       [0.06603774, 0.        , 0.03773585, 0.89622642],\n",
       "       [0.06603774, 0.        , 0.03773585, 0.89622642],\n",
       "       [0.        , 0.32954545, 0.54545455, 0.125     ],\n",
       "       [0.        , 0.32954545, 0.54545455, 0.125     ],\n",
       "       [0.98360656, 0.        , 0.        , 0.01639344],\n",
       "       [0.06603774, 0.        , 0.03773585, 0.89622642],\n",
       "       [0.98360656, 0.        , 0.        , 0.01639344],\n",
       "       [0.        , 0.32954545, 0.54545455, 0.125     ],\n",
       "       [0.        , 0.32954545, 0.54545455, 0.125     ],\n",
       "       [0.        , 0.7816092 , 0.20689655, 0.01149425],\n",
       "       [0.        , 0.7816092 , 0.20689655, 0.01149425],\n",
       "       [0.98360656, 0.        , 0.        , 0.01639344],\n",
       "       [0.        , 0.32954545, 0.54545455, 0.125     ],\n",
       "       [0.4       , 0.        , 0.        , 0.6       ],\n",
       "       [0.        , 0.10714286, 0.42857143, 0.46428571],\n",
       "       [0.        , 0.32954545, 0.54545455, 0.125     ],\n",
       "       [0.06603774, 0.        , 0.03773585, 0.89622642],\n",
       "       [0.98360656, 0.        , 0.        , 0.01639344],\n",
       "       [0.06603774, 0.        , 0.03773585, 0.89622642],\n",
       "       [0.06603774, 0.        , 0.03773585, 0.89622642],\n",
       "       [0.06603774, 0.        , 0.03773585, 0.89622642],\n",
       "       [0.06603774, 0.        , 0.03773585, 0.89622642],\n",
       "       [0.06603774, 0.        , 0.03773585, 0.89622642],\n",
       "       [0.98360656, 0.        , 0.        , 0.01639344],\n",
       "       [0.06603774, 0.        , 0.03773585, 0.89622642],\n",
       "       [0.        , 0.32954545, 0.54545455, 0.125     ],\n",
       "       [0.98360656, 0.        , 0.        , 0.01639344],\n",
       "       [0.        , 0.18181818, 0.72727273, 0.09090909],\n",
       "       [0.        , 0.18181818, 0.72727273, 0.09090909],\n",
       "       [0.98360656, 0.        , 0.        , 0.01639344],\n",
       "       [0.        , 0.7816092 , 0.20689655, 0.01149425],\n",
       "       [0.        , 0.7816092 , 0.20689655, 0.01149425],\n",
       "       [0.98360656, 0.        , 0.        , 0.01639344],\n",
       "       [0.4       , 0.        , 0.        , 0.6       ],\n",
       "       [0.98360656, 0.        , 0.        , 0.01639344],\n",
       "       [0.06603774, 0.        , 0.03773585, 0.89622642],\n",
       "       [0.06603774, 0.        , 0.03773585, 0.89622642],\n",
       "       [0.        , 0.10714286, 0.42857143, 0.46428571],\n",
       "       [0.06603774, 0.        , 0.03773585, 0.89622642],\n",
       "       [0.        , 0.32954545, 0.54545455, 0.125     ],\n",
       "       [0.        , 0.18181818, 0.72727273, 0.09090909],\n",
       "       [0.98360656, 0.        , 0.        , 0.01639344],\n",
       "       [0.        , 0.7816092 , 0.20689655, 0.01149425],\n",
       "       [0.        , 0.32954545, 0.54545455, 0.125     ],\n",
       "       [0.        , 0.32954545, 0.54545455, 0.125     ],\n",
       "       [0.98360656, 0.        , 0.        , 0.01639344],\n",
       "       [0.98360656, 0.        , 0.        , 0.01639344],\n",
       "       [0.        , 0.10714286, 0.42857143, 0.46428571],\n",
       "       [0.06603774, 0.        , 0.03773585, 0.89622642],\n",
       "       [0.98360656, 0.        , 0.        , 0.01639344],\n",
       "       [0.        , 0.7816092 , 0.20689655, 0.01149425]])"
      ]
     },
     "execution_count": 56,
     "metadata": {},
     "output_type": "execute_result"
    }
   ],
   "source": [
    "proba"
   ]
  },
  {
   "cell_type": "code",
   "execution_count": 61,
   "id": "8dbb52db",
   "metadata": {},
   "outputs": [
    {
     "data": {
      "text/plain": [
       "array([3, 3, 3, 3, 0, 3, 0, 3, 2, 3, 0, 2, 3, 3, 0, 3, 3, 3, 1, 2, 2, 0,\n",
       "       3, 0, 0, 0, 2, 2, 1, 0, 0, 1, 2, 0, 0, 1, 3, 3, 1, 2, 0, 0, 2, 3,\n",
       "       2, 0, 0, 0, 3, 2, 1, 0, 3, 2, 2, 3, 0, 1, 1, 2, 0, 2, 0, 1, 2, 3,\n",
       "       2, 3, 3, 2, 1, 3, 0, 3, 0, 3, 3, 3, 3, 2, 1, 2, 1, 3, 2, 0, 1, 2,\n",
       "       3, 0, 3, 3, 0, 1, 2, 2, 3, 3, 0, 0, 2, 0, 2, 0, 3, 2, 1, 2, 1, 3,\n",
       "       3, 0, 2, 3, 0, 1, 3, 0, 3, 3, 1, 0, 3, 2, 1, 1, 3, 3, 3, 1, 3, 0,\n",
       "       1, 1, 2, 3, 2, 3, 3, 2, 2, 0, 3, 2, 1, 1, 3, 0, 0, 1, 3, 0, 2, 3,\n",
       "       1, 2, 3, 1, 3, 3, 2, 3, 2, 3, 2, 2, 0, 3, 1, 2, 0, 2, 3, 3, 2, 2,\n",
       "       0, 3, 0, 2, 2, 1, 1, 0, 2, 3, 3, 2, 3, 0, 3, 3, 3, 3, 3, 0, 3, 2,\n",
       "       0, 2, 2, 0, 1, 1, 0, 3, 0, 3, 3, 3, 3, 2, 2, 0, 1, 2, 2, 0, 0, 3,\n",
       "       3, 0, 1])"
      ]
     },
     "execution_count": 61,
     "metadata": {},
     "output_type": "execute_result"
    }
   ],
   "source": [
    "y_pred"
   ]
  },
  {
   "cell_type": "code",
   "execution_count": 57,
   "id": "27af3c22",
   "metadata": {},
   "outputs": [],
   "source": [
    "#skplt.metrics.plot_ks_statistic(y_test, proba)"
   ]
  },
  {
   "cell_type": "code",
   "execution_count": 58,
   "id": "78728e98",
   "metadata": {},
   "outputs": [
    {
     "name": "stdout",
     "output_type": "stream",
     "text": [
      "              precision    recall  f1-score   support\n",
      "\n",
      "           0       0.94      0.81      0.87        63\n",
      "           1       0.74      0.52      0.61        50\n",
      "           2       0.41      0.51      0.46        45\n",
      "           3       0.69      0.83      0.76        65\n",
      "\n",
      "    accuracy                           0.69       223\n",
      "   macro avg       0.70      0.67      0.67       223\n",
      "weighted avg       0.72      0.69      0.70       223\n",
      "\n"
     ]
    }
   ],
   "source": [
    "print(classification_report(y_test, y_pred))"
   ]
  },
  {
   "cell_type": "markdown",
   "id": "9c62334c",
   "metadata": {},
   "source": [
    "### XGBoost"
   ]
  },
  {
   "cell_type": "code",
   "execution_count": 90,
   "id": "f2342b76",
   "metadata": {},
   "outputs": [
    {
     "data": {
      "text/plain": [
       "danceability        float64\n",
       "acousticness        float64\n",
       "energy              float64\n",
       "instrumentalness    float64\n",
       "liveness            float64\n",
       "valence             float64\n",
       "loudness            float64\n",
       "speechiness         float64\n",
       "tempo               float64\n",
       "dtype: object"
      ]
     },
     "execution_count": 90,
     "metadata": {},
     "output_type": "execute_result"
    }
   ],
   "source": [
    "X_train.dtypes"
   ]
  },
  {
   "cell_type": "code",
   "execution_count": 94,
   "id": "42a1fbdc",
   "metadata": {},
   "outputs": [
    {
     "name": "stderr",
     "output_type": "stream",
     "text": [
      "C:\\Users\\sara-\\anaconda3\\envs\\sara\\lib\\site-packages\\xgboost\\sklearn.py:1224: UserWarning: The use of label encoder in XGBClassifier is deprecated and will be removed in a future release. To remove this warning, do the following: 1) Pass option use_label_encoder=False when constructing XGBClassifier object; and 2) Encode your labels (y) as integers starting with 0, i.e. 0, 1, 2, ..., [num_class - 1].\n",
      "  warnings.warn(label_encoder_deprecation_msg, UserWarning)\n",
      "C:\\Users\\sara-\\anaconda3\\envs\\sara\\lib\\site-packages\\xgboost\\data.py:250: FutureWarning: pandas.Int64Index is deprecated and will be removed from pandas in a future version. Use pandas.Index with the appropriate dtype instead.\n",
      "  elif isinstance(data.columns, (pd.Int64Index, pd.RangeIndex)):\n"
     ]
    },
    {
     "name": "stdout",
     "output_type": "stream",
     "text": [
      "[23:58:48] WARNING: C:\\Windows\\Temp\\abs_557yfx631l\\croots\\recipe\\xgboost-split_1659548953302\\work\\src\\learner.cc:1115: Starting in XGBoost 1.3.0, the default evaluation metric used with the objective 'multi:softprob' was changed from 'merror' to 'mlogloss'. Explicitly set eval_metric if you'd like to restore the old behavior.\n"
     ]
    },
    {
     "data": {
      "text/plain": [
       "array([[57,  0,  0,  6],\n",
       "       [ 0, 35, 13,  2],\n",
       "       [ 0, 12, 30,  3],\n",
       "       [ 8,  0,  4, 53]], dtype=int64)"
      ]
     },
     "execution_count": 94,
     "metadata": {},
     "output_type": "execute_result"
    }
   ],
   "source": [
    "model = xgb.XGBClassifier()\n",
    "model.fit(X_train, y_train)\n",
    " \n",
    "# Predicting the Test set results\n",
    "y_pred = model.predict(X_test)\n",
    " \n",
    "# Making the Confusion Matrix\n",
    "confusion_matrix(y_test, y_pred)"
   ]
  },
  {
   "cell_type": "code",
   "execution_count": 95,
   "id": "438a7199",
   "metadata": {},
   "outputs": [
    {
     "name": "stdout",
     "output_type": "stream",
     "text": [
      "Accuracy: 78.48%\n"
     ]
    }
   ],
   "source": [
    "y_pred = model.predict(X_test)\n",
    "#predictions = [round(value) for value in y_pred]\n",
    "# evaluate predictions\n",
    "accuracy = accuracy_score(y_test, y_pred)\n",
    "print(\"Accuracy: %.2f%%\" % (accuracy * 100.0))"
   ]
  },
  {
   "cell_type": "code",
   "execution_count": 96,
   "id": "217da6e1",
   "metadata": {},
   "outputs": [
    {
     "name": "stdout",
     "output_type": "stream",
     "text": [
      "              precision    recall  f1-score   support\n",
      "\n",
      "           0       0.88      0.90      0.89        63\n",
      "           1       0.74      0.70      0.72        50\n",
      "           2       0.64      0.67      0.65        45\n",
      "           3       0.83      0.82      0.82        65\n",
      "\n",
      "    accuracy                           0.78       223\n",
      "   macro avg       0.77      0.77      0.77       223\n",
      "weighted avg       0.78      0.78      0.78       223\n",
      "\n"
     ]
    }
   ],
   "source": [
    "print(classification_report(y_test, y_pred))"
   ]
  },
  {
   "cell_type": "code",
   "execution_count": 97,
   "id": "cfb234ef",
   "metadata": {},
   "outputs": [
    {
     "name": "stderr",
     "output_type": "stream",
     "text": [
      "C:\\Users\\sara-\\anaconda3\\envs\\sara\\lib\\site-packages\\sklearn\\utils\\deprecation.py:87: FutureWarning: Function plot_confusion_matrix is deprecated; Function `plot_confusion_matrix` is deprecated in 1.0 and will be removed in 1.2. Use one of the class methods: ConfusionMatrixDisplay.from_predictions or ConfusionMatrixDisplay.from_estimator.\n",
      "  warnings.warn(msg, category=FutureWarning)\n"
     ]
    },
    {
     "data": {
      "image/png": "[encoded data removed]",
      "text/plain": [
       "<Figure size 432x288 with 2 Axes>"
      ]
     },
     "metadata": {
      "needs_background": "light"
     },
     "output_type": "display_data"
    }
   ],
   "source": [
    "plot_confusion_matrix(clf, X_test, y_test)  \n",
    "plt.show()"
   ]
  },
  {
   "cell_type": "code",
   "execution_count": 98,
   "id": "3b1bd536",
   "metadata": {},
   "outputs": [],
   "source": [
    "proba = model.predict_proba(X_test)"
   ]
  },
  {
   "cell_type": "code",
   "execution_count": 100,
   "id": "8c57f820",
   "metadata": {},
   "outputs": [
    {
     "data": {
      "image/png": "[encoded data removed]",
      "text/plain": [
       "<Figure size 432x288 with 1 Axes>"
      ]
     },
     "metadata": {
      "needs_background": "light"
     },
     "output_type": "display_data"
    }
   ],
   "source": [
    "from xgboost import plot_importance\n",
    "plot_importance(model)\n",
    "plt.show()"
   ]
  },
  {
   "cell_type": "markdown",
   "id": "10738a8b",
   "metadata": {},
   "source": [
    "### Neural network"
   ]
  },
  {
   "cell_type": "code",
   "execution_count": 67,
   "id": "3e467eb8",
   "metadata": {},
   "outputs": [
    {
     "name": "stderr",
     "output_type": "stream",
     "text": [
      "C:\\Users\\sara-\\anaconda3\\envs\\sara\\lib\\site-packages\\sklearn\\neural_network\\_multilayer_perceptron.py:549: ConvergenceWarning: lbfgs failed to converge (status=2):\n",
      "ABNORMAL_TERMINATION_IN_LNSRCH.\n",
      "\n",
      "Increase the number of iterations (max_iter) or scale the data as shown in:\n",
      "    https://scikit-learn.org/stable/modules/preprocessing.html\n",
      "  self.n_iter_ = _check_optimize_result(\"lbfgs\", opt_res, self.max_iter)\n"
     ]
    },
    {
     "data": {
      "text/plain": [
       "MLPClassifier(alpha=1e-05, hidden_layer_sizes=(5, 2), random_state=1,\n",
       "              solver='lbfgs')"
      ]
     },
     "execution_count": 67,
     "metadata": {},
     "output_type": "execute_result"
    }
   ],
   "source": [
    "from sklearn.neural_network import MLPClassifier\n",
    "#X = [[0., 0.], [1., 1.]]\n",
    "#y = [0, 1]\n",
    "nn = MLPClassifier(solver='lbfgs', alpha=1e-5,\n",
    "                    hidden_layer_sizes=(5, 2), random_state=1)\n",
    "\n",
    "nn.fit(X_train, y_train)"
   ]
  },
  {
   "cell_type": "code",
   "execution_count": 69,
   "id": "f0a87f21",
   "metadata": {},
   "outputs": [],
   "source": [
    "y_pred = nn.predict(X_test)"
   ]
  },
  {
   "cell_type": "code",
   "execution_count": 70,
   "id": "769d3a19",
   "metadata": {},
   "outputs": [
    {
     "name": "stdout",
     "output_type": "stream",
     "text": [
      "              precision    recall  f1-score   support\n",
      "\n",
      "           0       0.29      0.83      0.43        63\n",
      "           1       0.00      0.00      0.00        50\n",
      "           2       0.20      0.20      0.20        45\n",
      "           3       0.00      0.00      0.00        65\n",
      "\n",
      "    accuracy                           0.27       223\n",
      "   macro avg       0.12      0.26      0.16       223\n",
      "weighted avg       0.12      0.27      0.16       223\n",
      "\n"
     ]
    },
    {
     "name": "stderr",
     "output_type": "stream",
     "text": [
      "C:\\Users\\sara-\\anaconda3\\envs\\sara\\lib\\site-packages\\sklearn\\metrics\\_classification.py:1318: UndefinedMetricWarning: Precision and F-score are ill-defined and being set to 0.0 in labels with no predicted samples. Use `zero_division` parameter to control this behavior.\n",
      "  _warn_prf(average, modifier, msg_start, len(result))\n",
      "C:\\Users\\sara-\\anaconda3\\envs\\sara\\lib\\site-packages\\sklearn\\metrics\\_classification.py:1318: UndefinedMetricWarning: Precision and F-score are ill-defined and being set to 0.0 in labels with no predicted samples. Use `zero_division` parameter to control this behavior.\n",
      "  _warn_prf(average, modifier, msg_start, len(result))\n",
      "C:\\Users\\sara-\\anaconda3\\envs\\sara\\lib\\site-packages\\sklearn\\metrics\\_classification.py:1318: UndefinedMetricWarning: Precision and F-score are ill-defined and being set to 0.0 in labels with no predicted samples. Use `zero_division` parameter to control this behavior.\n",
      "  _warn_prf(average, modifier, msg_start, len(result))\n"
     ]
    }
   ],
   "source": [
    "print(classification_report(y_test, y_pred))"
   ]
  },
  {
   "cell_type": "markdown",
   "id": "91499e17",
   "metadata": {},
   "source": [
    "### Deep learning"
   ]
  },
  {
   "cell_type": "code",
   "execution_count": 224,
   "id": "16742de0",
   "metadata": {},
   "outputs": [],
   "source": [
    "#Libraries to create the Multi-class Neural Network\n",
    "from keras.models import Sequential\n",
    "from keras.layers import Dense\n",
    "from keras.wrappers.scikit_learn import KerasClassifier\n",
    "from keras.utils import np_utils\n",
    "#Import tensorflow and disable the v2 behavior and eager mode\n",
    "import tensorflow as tf\n",
    "tf.compat.v1.disable_eager_execution()\n",
    "tf.compat.v1.disable_v2_behavior()"
   ]
  },
  {
   "cell_type": "code",
   "execution_count": 225,
   "id": "372079c5",
   "metadata": {},
   "outputs": [
    {
     "name": "stderr",
     "output_type": "stream",
     "text": [
      "C:\\Users\\sara-\\AppData\\Local\\Temp\\ipykernel_51888\\1988398375.py:13: DeprecationWarning: KerasClassifier is deprecated, use Sci-Keras (https://github.com/adriangb/scikeras) instead. See https://www.adriangb.com/scikeras/stable/migration.html for help migrating.\n",
      "  estimator = KerasClassifier(build_fn=base_model,epochs=300,\n"
     ]
    }
   ],
   "source": [
    "#Function that creates the structure of the Neural Network\n",
    "def base_model():\n",
    "    #Create the model\n",
    "    model = Sequential()\n",
    "    #Add 1 layer with 8 nodes,input of 4 dim with relu function\n",
    "    model.add(Dense(8,input_dim=10,activation='relu'))\n",
    "    #Add 1 layer with output 3 and softmax function\n",
    "    model.add(Dense(4,activation='softmax'))\n",
    "    #Compile the model using logistic loss function and adam     optimizer, accuracy correspond to the metric displayed\n",
    "    model.compile(loss='categorical_crossentropy',optimizer='adam',metrics=['accuracy'])\n",
    "    return model\n",
    "#Configure the estimator with 300 epochs and 200 batchs. the build_fn takes the function defined above.\n",
    "estimator = KerasClassifier(build_fn=base_model,epochs=300,\n",
    "                            batch_size=200)"
   ]
  },
  {
   "cell_type": "code",
   "execution_count": 226,
   "id": "4279d9c9",
   "metadata": {},
   "outputs": [],
   "source": [
    "#Library to evaluate the model\n",
    "from sklearn.model_selection import cross_val_score, KFold"
   ]
  },
  {
   "cell_type": "code",
   "execution_count": 227,
   "id": "6ff0e18b",
   "metadata": {},
   "outputs": [
    {
     "name": "stdout",
     "output_type": "stream",
     "text": [
      "nan% (nan%)\n"
     ]
    },
    {
     "name": "stderr",
     "output_type": "stream",
     "text": [
      "C:\\Users\\sara-\\anaconda3\\envs\\sara\\lib\\site-packages\\sklearn\\model_selection\\_validation.py:372: FitFailedWarning: \n",
      "10 fits failed out of a total of 10.\n",
      "The score on these train-test partitions for these parameters will be set to nan.\n",
      "If these failures are not expected, you can try to debug them by setting error_score='raise'.\n",
      "\n",
      "Below are more details about the failures:\n",
      "--------------------------------------------------------------------------------\n",
      "1 fits failed with the following error:\n",
      "Traceback (most recent call last):\n",
      "  File \"C:\\Users\\sara-\\anaconda3\\envs\\sara\\lib\\site-packages\\sklearn\\model_selection\\_validation.py\", line 680, in _fit_and_score\n",
      "    estimator.fit(X_train, y_train, **fit_params)\n",
      "  File \"C:\\Users\\sara-\\anaconda3\\envs\\sara\\lib\\site-packages\\keras\\wrappers\\scikit_learn.py\", line 236, in fit\n",
      "    return super(KerasClassifier, self).fit(x, y, **kwargs)\n",
      "  File \"C:\\Users\\sara-\\anaconda3\\envs\\sara\\lib\\site-packages\\keras\\wrappers\\scikit_learn.py\", line 164, in fit\n",
      "    history = self.model.fit(x, y, **fit_args)\n",
      "  File \"C:\\Users\\sara-\\anaconda3\\envs\\sara\\lib\\site-packages\\keras\\engine\\training_v1.py\", line 776, in fit\n",
      "    return func.fit(\n",
      "  File \"C:\\Users\\sara-\\anaconda3\\envs\\sara\\lib\\site-packages\\keras\\engine\\training_arrays_v1.py\", line 616, in fit\n",
      "    x, y, sample_weights = model._standardize_user_data(\n",
      "  File \"C:\\Users\\sara-\\anaconda3\\envs\\sara\\lib\\site-packages\\keras\\engine\\training_v1.py\", line 2323, in _standardize_user_data\n",
      "    return self._standardize_tensors(\n",
      "  File \"C:\\Users\\sara-\\anaconda3\\envs\\sara\\lib\\site-packages\\keras\\engine\\training_v1.py\", line 2351, in _standardize_tensors\n",
      "    x = training_utils_v1.standardize_input_data(\n",
      "  File \"C:\\Users\\sara-\\anaconda3\\envs\\sara\\lib\\site-packages\\keras\\engine\\training_utils_v1.py\", line 642, in standardize_input_data\n",
      "    raise ValueError('Error when checking ' + exception_prefix +\n",
      "ValueError: Error when checking input: expected dense_40_input to have shape (10,) but got array with shape (9,)\n",
      "\n",
      "--------------------------------------------------------------------------------\n",
      "1 fits failed with the following error:\n",
      "Traceback (most recent call last):\n",
      "  File \"C:\\Users\\sara-\\anaconda3\\envs\\sara\\lib\\site-packages\\sklearn\\model_selection\\_validation.py\", line 680, in _fit_and_score\n",
      "    estimator.fit(X_train, y_train, **fit_params)\n",
      "  File \"C:\\Users\\sara-\\anaconda3\\envs\\sara\\lib\\site-packages\\keras\\wrappers\\scikit_learn.py\", line 236, in fit\n",
      "    return super(KerasClassifier, self).fit(x, y, **kwargs)\n",
      "  File \"C:\\Users\\sara-\\anaconda3\\envs\\sara\\lib\\site-packages\\keras\\wrappers\\scikit_learn.py\", line 164, in fit\n",
      "    history = self.model.fit(x, y, **fit_args)\n",
      "  File \"C:\\Users\\sara-\\anaconda3\\envs\\sara\\lib\\site-packages\\keras\\engine\\training_v1.py\", line 776, in fit\n",
      "    return func.fit(\n",
      "  File \"C:\\Users\\sara-\\anaconda3\\envs\\sara\\lib\\site-packages\\keras\\engine\\training_arrays_v1.py\", line 616, in fit\n",
      "    x, y, sample_weights = model._standardize_user_data(\n",
      "  File \"C:\\Users\\sara-\\anaconda3\\envs\\sara\\lib\\site-packages\\keras\\engine\\training_v1.py\", line 2323, in _standardize_user_data\n",
      "    return self._standardize_tensors(\n",
      "  File \"C:\\Users\\sara-\\anaconda3\\envs\\sara\\lib\\site-packages\\keras\\engine\\training_v1.py\", line 2351, in _standardize_tensors\n",
      "    x = training_utils_v1.standardize_input_data(\n",
      "  File \"C:\\Users\\sara-\\anaconda3\\envs\\sara\\lib\\site-packages\\keras\\engine\\training_utils_v1.py\", line 642, in standardize_input_data\n",
      "    raise ValueError('Error when checking ' + exception_prefix +\n",
      "ValueError: Error when checking input: expected dense_42_input to have shape (10,) but got array with shape (9,)\n",
      "\n",
      "--------------------------------------------------------------------------------\n",
      "1 fits failed with the following error:\n",
      "Traceback (most recent call last):\n",
      "  File \"C:\\Users\\sara-\\anaconda3\\envs\\sara\\lib\\site-packages\\sklearn\\model_selection\\_validation.py\", line 680, in _fit_and_score\n",
      "    estimator.fit(X_train, y_train, **fit_params)\n",
      "  File \"C:\\Users\\sara-\\anaconda3\\envs\\sara\\lib\\site-packages\\keras\\wrappers\\scikit_learn.py\", line 236, in fit\n",
      "    return super(KerasClassifier, self).fit(x, y, **kwargs)\n",
      "  File \"C:\\Users\\sara-\\anaconda3\\envs\\sara\\lib\\site-packages\\keras\\wrappers\\scikit_learn.py\", line 164, in fit\n",
      "    history = self.model.fit(x, y, **fit_args)\n",
      "  File \"C:\\Users\\sara-\\anaconda3\\envs\\sara\\lib\\site-packages\\keras\\engine\\training_v1.py\", line 776, in fit\n",
      "    return func.fit(\n",
      "  File \"C:\\Users\\sara-\\anaconda3\\envs\\sara\\lib\\site-packages\\keras\\engine\\training_arrays_v1.py\", line 616, in fit\n",
      "    x, y, sample_weights = model._standardize_user_data(\n",
      "  File \"C:\\Users\\sara-\\anaconda3\\envs\\sara\\lib\\site-packages\\keras\\engine\\training_v1.py\", line 2323, in _standardize_user_data\n",
      "    return self._standardize_tensors(\n",
      "  File \"C:\\Users\\sara-\\anaconda3\\envs\\sara\\lib\\site-packages\\keras\\engine\\training_v1.py\", line 2351, in _standardize_tensors\n",
      "    x = training_utils_v1.standardize_input_data(\n",
      "  File \"C:\\Users\\sara-\\anaconda3\\envs\\sara\\lib\\site-packages\\keras\\engine\\training_utils_v1.py\", line 642, in standardize_input_data\n",
      "    raise ValueError('Error when checking ' + exception_prefix +\n",
      "ValueError: Error when checking input: expected dense_44_input to have shape (10,) but got array with shape (9,)\n",
      "\n",
      "--------------------------------------------------------------------------------\n",
      "1 fits failed with the following error:\n",
      "Traceback (most recent call last):\n",
      "  File \"C:\\Users\\sara-\\anaconda3\\envs\\sara\\lib\\site-packages\\sklearn\\model_selection\\_validation.py\", line 680, in _fit_and_score\n",
      "    estimator.fit(X_train, y_train, **fit_params)\n",
      "  File \"C:\\Users\\sara-\\anaconda3\\envs\\sara\\lib\\site-packages\\keras\\wrappers\\scikit_learn.py\", line 236, in fit\n",
      "    return super(KerasClassifier, self).fit(x, y, **kwargs)\n",
      "  File \"C:\\Users\\sara-\\anaconda3\\envs\\sara\\lib\\site-packages\\keras\\wrappers\\scikit_learn.py\", line 164, in fit\n",
      "    history = self.model.fit(x, y, **fit_args)\n",
      "  File \"C:\\Users\\sara-\\anaconda3\\envs\\sara\\lib\\site-packages\\keras\\engine\\training_v1.py\", line 776, in fit\n",
      "    return func.fit(\n",
      "  File \"C:\\Users\\sara-\\anaconda3\\envs\\sara\\lib\\site-packages\\keras\\engine\\training_arrays_v1.py\", line 616, in fit\n",
      "    x, y, sample_weights = model._standardize_user_data(\n",
      "  File \"C:\\Users\\sara-\\anaconda3\\envs\\sara\\lib\\site-packages\\keras\\engine\\training_v1.py\", line 2323, in _standardize_user_data\n",
      "    return self._standardize_tensors(\n",
      "  File \"C:\\Users\\sara-\\anaconda3\\envs\\sara\\lib\\site-packages\\keras\\engine\\training_v1.py\", line 2351, in _standardize_tensors\n",
      "    x = training_utils_v1.standardize_input_data(\n",
      "  File \"C:\\Users\\sara-\\anaconda3\\envs\\sara\\lib\\site-packages\\keras\\engine\\training_utils_v1.py\", line 642, in standardize_input_data\n",
      "    raise ValueError('Error when checking ' + exception_prefix +\n",
      "ValueError: Error when checking input: expected dense_46_input to have shape (10,) but got array with shape (9,)\n",
      "\n",
      "--------------------------------------------------------------------------------\n",
      "1 fits failed with the following error:\n",
      "Traceback (most recent call last):\n",
      "  File \"C:\\Users\\sara-\\anaconda3\\envs\\sara\\lib\\site-packages\\sklearn\\model_selection\\_validation.py\", line 680, in _fit_and_score\n",
      "    estimator.fit(X_train, y_train, **fit_params)\n",
      "  File \"C:\\Users\\sara-\\anaconda3\\envs\\sara\\lib\\site-packages\\keras\\wrappers\\scikit_learn.py\", line 236, in fit\n",
      "    return super(KerasClassifier, self).fit(x, y, **kwargs)\n",
      "  File \"C:\\Users\\sara-\\anaconda3\\envs\\sara\\lib\\site-packages\\keras\\wrappers\\scikit_learn.py\", line 164, in fit\n",
      "    history = self.model.fit(x, y, **fit_args)\n",
      "  File \"C:\\Users\\sara-\\anaconda3\\envs\\sara\\lib\\site-packages\\keras\\engine\\training_v1.py\", line 776, in fit\n",
      "    return func.fit(\n",
      "  File \"C:\\Users\\sara-\\anaconda3\\envs\\sara\\lib\\site-packages\\keras\\engine\\training_arrays_v1.py\", line 616, in fit\n",
      "    x, y, sample_weights = model._standardize_user_data(\n",
      "  File \"C:\\Users\\sara-\\anaconda3\\envs\\sara\\lib\\site-packages\\keras\\engine\\training_v1.py\", line 2323, in _standardize_user_data\n",
      "    return self._standardize_tensors(\n",
      "  File \"C:\\Users\\sara-\\anaconda3\\envs\\sara\\lib\\site-packages\\keras\\engine\\training_v1.py\", line 2351, in _standardize_tensors\n",
      "    x = training_utils_v1.standardize_input_data(\n",
      "  File \"C:\\Users\\sara-\\anaconda3\\envs\\sara\\lib\\site-packages\\keras\\engine\\training_utils_v1.py\", line 642, in standardize_input_data\n",
      "    raise ValueError('Error when checking ' + exception_prefix +\n",
      "ValueError: Error when checking input: expected dense_48_input to have shape (10,) but got array with shape (9,)\n",
      "\n",
      "--------------------------------------------------------------------------------\n",
      "1 fits failed with the following error:\n",
      "Traceback (most recent call last):\n",
      "  File \"C:\\Users\\sara-\\anaconda3\\envs\\sara\\lib\\site-packages\\sklearn\\model_selection\\_validation.py\", line 680, in _fit_and_score\n",
      "    estimator.fit(X_train, y_train, **fit_params)\n",
      "  File \"C:\\Users\\sara-\\anaconda3\\envs\\sara\\lib\\site-packages\\keras\\wrappers\\scikit_learn.py\", line 236, in fit\n",
      "    return super(KerasClassifier, self).fit(x, y, **kwargs)\n",
      "  File \"C:\\Users\\sara-\\anaconda3\\envs\\sara\\lib\\site-packages\\keras\\wrappers\\scikit_learn.py\", line 164, in fit\n",
      "    history = self.model.fit(x, y, **fit_args)\n",
      "  File \"C:\\Users\\sara-\\anaconda3\\envs\\sara\\lib\\site-packages\\keras\\engine\\training_v1.py\", line 776, in fit\n",
      "    return func.fit(\n",
      "  File \"C:\\Users\\sara-\\anaconda3\\envs\\sara\\lib\\site-packages\\keras\\engine\\training_arrays_v1.py\", line 616, in fit\n",
      "    x, y, sample_weights = model._standardize_user_data(\n",
      "  File \"C:\\Users\\sara-\\anaconda3\\envs\\sara\\lib\\site-packages\\keras\\engine\\training_v1.py\", line 2323, in _standardize_user_data\n",
      "    return self._standardize_tensors(\n",
      "  File \"C:\\Users\\sara-\\anaconda3\\envs\\sara\\lib\\site-packages\\keras\\engine\\training_v1.py\", line 2351, in _standardize_tensors\n",
      "    x = training_utils_v1.standardize_input_data(\n",
      "  File \"C:\\Users\\sara-\\anaconda3\\envs\\sara\\lib\\site-packages\\keras\\engine\\training_utils_v1.py\", line 642, in standardize_input_data\n",
      "    raise ValueError('Error when checking ' + exception_prefix +\n",
      "ValueError: Error when checking input: expected dense_50_input to have shape (10,) but got array with shape (9,)\n",
      "\n",
      "--------------------------------------------------------------------------------\n",
      "1 fits failed with the following error:\n",
      "Traceback (most recent call last):\n",
      "  File \"C:\\Users\\sara-\\anaconda3\\envs\\sara\\lib\\site-packages\\sklearn\\model_selection\\_validation.py\", line 680, in _fit_and_score\n",
      "    estimator.fit(X_train, y_train, **fit_params)\n",
      "  File \"C:\\Users\\sara-\\anaconda3\\envs\\sara\\lib\\site-packages\\keras\\wrappers\\scikit_learn.py\", line 236, in fit\n",
      "    return super(KerasClassifier, self).fit(x, y, **kwargs)\n",
      "  File \"C:\\Users\\sara-\\anaconda3\\envs\\sara\\lib\\site-packages\\keras\\wrappers\\scikit_learn.py\", line 164, in fit\n",
      "    history = self.model.fit(x, y, **fit_args)\n",
      "  File \"C:\\Users\\sara-\\anaconda3\\envs\\sara\\lib\\site-packages\\keras\\engine\\training_v1.py\", line 776, in fit\n",
      "    return func.fit(\n",
      "  File \"C:\\Users\\sara-\\anaconda3\\envs\\sara\\lib\\site-packages\\keras\\engine\\training_arrays_v1.py\", line 616, in fit\n",
      "    x, y, sample_weights = model._standardize_user_data(\n",
      "  File \"C:\\Users\\sara-\\anaconda3\\envs\\sara\\lib\\site-packages\\keras\\engine\\training_v1.py\", line 2323, in _standardize_user_data\n",
      "    return self._standardize_tensors(\n",
      "  File \"C:\\Users\\sara-\\anaconda3\\envs\\sara\\lib\\site-packages\\keras\\engine\\training_v1.py\", line 2351, in _standardize_tensors\n",
      "    x = training_utils_v1.standardize_input_data(\n",
      "  File \"C:\\Users\\sara-\\anaconda3\\envs\\sara\\lib\\site-packages\\keras\\engine\\training_utils_v1.py\", line 642, in standardize_input_data\n",
      "    raise ValueError('Error when checking ' + exception_prefix +\n",
      "ValueError: Error when checking input: expected dense_52_input to have shape (10,) but got array with shape (9,)\n",
      "\n",
      "--------------------------------------------------------------------------------\n",
      "1 fits failed with the following error:\n",
      "Traceback (most recent call last):\n",
      "  File \"C:\\Users\\sara-\\anaconda3\\envs\\sara\\lib\\site-packages\\sklearn\\model_selection\\_validation.py\", line 680, in _fit_and_score\n",
      "    estimator.fit(X_train, y_train, **fit_params)\n",
      "  File \"C:\\Users\\sara-\\anaconda3\\envs\\sara\\lib\\site-packages\\keras\\wrappers\\scikit_learn.py\", line 236, in fit\n",
      "    return super(KerasClassifier, self).fit(x, y, **kwargs)\n",
      "  File \"C:\\Users\\sara-\\anaconda3\\envs\\sara\\lib\\site-packages\\keras\\wrappers\\scikit_learn.py\", line 164, in fit\n",
      "    history = self.model.fit(x, y, **fit_args)\n",
      "  File \"C:\\Users\\sara-\\anaconda3\\envs\\sara\\lib\\site-packages\\keras\\engine\\training_v1.py\", line 776, in fit\n",
      "    return func.fit(\n",
      "  File \"C:\\Users\\sara-\\anaconda3\\envs\\sara\\lib\\site-packages\\keras\\engine\\training_arrays_v1.py\", line 616, in fit\n",
      "    x, y, sample_weights = model._standardize_user_data(\n",
      "  File \"C:\\Users\\sara-\\anaconda3\\envs\\sara\\lib\\site-packages\\keras\\engine\\training_v1.py\", line 2323, in _standardize_user_data\n",
      "    return self._standardize_tensors(\n",
      "  File \"C:\\Users\\sara-\\anaconda3\\envs\\sara\\lib\\site-packages\\keras\\engine\\training_v1.py\", line 2351, in _standardize_tensors\n",
      "    x = training_utils_v1.standardize_input_data(\n",
      "  File \"C:\\Users\\sara-\\anaconda3\\envs\\sara\\lib\\site-packages\\keras\\engine\\training_utils_v1.py\", line 642, in standardize_input_data\n",
      "    raise ValueError('Error when checking ' + exception_prefix +\n",
      "ValueError: Error when checking input: expected dense_54_input to have shape (10,) but got array with shape (9,)\n",
      "\n",
      "--------------------------------------------------------------------------------\n",
      "1 fits failed with the following error:\n",
      "Traceback (most recent call last):\n",
      "  File \"C:\\Users\\sara-\\anaconda3\\envs\\sara\\lib\\site-packages\\sklearn\\model_selection\\_validation.py\", line 680, in _fit_and_score\n",
      "    estimator.fit(X_train, y_train, **fit_params)\n",
      "  File \"C:\\Users\\sara-\\anaconda3\\envs\\sara\\lib\\site-packages\\keras\\wrappers\\scikit_learn.py\", line 236, in fit\n",
      "    return super(KerasClassifier, self).fit(x, y, **kwargs)\n",
      "  File \"C:\\Users\\sara-\\anaconda3\\envs\\sara\\lib\\site-packages\\keras\\wrappers\\scikit_learn.py\", line 164, in fit\n",
      "    history = self.model.fit(x, y, **fit_args)\n",
      "  File \"C:\\Users\\sara-\\anaconda3\\envs\\sara\\lib\\site-packages\\keras\\engine\\training_v1.py\", line 776, in fit\n",
      "    return func.fit(\n",
      "  File \"C:\\Users\\sara-\\anaconda3\\envs\\sara\\lib\\site-packages\\keras\\engine\\training_arrays_v1.py\", line 616, in fit\n",
      "    x, y, sample_weights = model._standardize_user_data(\n",
      "  File \"C:\\Users\\sara-\\anaconda3\\envs\\sara\\lib\\site-packages\\keras\\engine\\training_v1.py\", line 2323, in _standardize_user_data\n",
      "    return self._standardize_tensors(\n",
      "  File \"C:\\Users\\sara-\\anaconda3\\envs\\sara\\lib\\site-packages\\keras\\engine\\training_v1.py\", line 2351, in _standardize_tensors\n",
      "    x = training_utils_v1.standardize_input_data(\n",
      "  File \"C:\\Users\\sara-\\anaconda3\\envs\\sara\\lib\\site-packages\\keras\\engine\\training_utils_v1.py\", line 642, in standardize_input_data\n",
      "    raise ValueError('Error when checking ' + exception_prefix +\n",
      "ValueError: Error when checking input: expected dense_56_input to have shape (10,) but got array with shape (9,)\n",
      "\n",
      "--------------------------------------------------------------------------------\n",
      "1 fits failed with the following error:\n",
      "Traceback (most recent call last):\n",
      "  File \"C:\\Users\\sara-\\anaconda3\\envs\\sara\\lib\\site-packages\\sklearn\\model_selection\\_validation.py\", line 680, in _fit_and_score\n",
      "    estimator.fit(X_train, y_train, **fit_params)\n",
      "  File \"C:\\Users\\sara-\\anaconda3\\envs\\sara\\lib\\site-packages\\keras\\wrappers\\scikit_learn.py\", line 236, in fit\n",
      "    return super(KerasClassifier, self).fit(x, y, **kwargs)\n",
      "  File \"C:\\Users\\sara-\\anaconda3\\envs\\sara\\lib\\site-packages\\keras\\wrappers\\scikit_learn.py\", line 164, in fit\n",
      "    history = self.model.fit(x, y, **fit_args)\n",
      "  File \"C:\\Users\\sara-\\anaconda3\\envs\\sara\\lib\\site-packages\\keras\\engine\\training_v1.py\", line 776, in fit\n",
      "    return func.fit(\n",
      "  File \"C:\\Users\\sara-\\anaconda3\\envs\\sara\\lib\\site-packages\\keras\\engine\\training_arrays_v1.py\", line 616, in fit\n",
      "    x, y, sample_weights = model._standardize_user_data(\n",
      "  File \"C:\\Users\\sara-\\anaconda3\\envs\\sara\\lib\\site-packages\\keras\\engine\\training_v1.py\", line 2323, in _standardize_user_data\n",
      "    return self._standardize_tensors(\n",
      "  File \"C:\\Users\\sara-\\anaconda3\\envs\\sara\\lib\\site-packages\\keras\\engine\\training_v1.py\", line 2351, in _standardize_tensors\n",
      "    x = training_utils_v1.standardize_input_data(\n",
      "  File \"C:\\Users\\sara-\\anaconda3\\envs\\sara\\lib\\site-packages\\keras\\engine\\training_utils_v1.py\", line 642, in standardize_input_data\n",
      "    raise ValueError('Error when checking ' + exception_prefix +\n",
      "ValueError: Error when checking input: expected dense_58_input to have shape (10,) but got array with shape (9,)\n",
      "\n",
      "  warnings.warn(some_fits_failed_message, FitFailedWarning)\n"
     ]
    }
   ],
   "source": [
    "#Evaluate the model using KFold cross validation\n",
    "kfold = KFold(n_splits=10,shuffle=True)\n",
    "results = cross_val_score(estimator,X,y,cv=kfold)\n",
    "print(\"%.2f%% (%.2f%%)\" % (results.mean()*100,results.std()*100))"
   ]
  },
  {
   "cell_type": "markdown",
   "id": "69c7e94b",
   "metadata": {},
   "source": [
    "### Salvar modelo final (em arquivo)"
   ]
  },
  {
   "cell_type": "code",
   "execution_count": 260,
   "id": "f9fe9c3f",
   "metadata": {},
   "outputs": [],
   "source": [
    "import pickle\n",
    "\n",
    "with open(\"modelo.pkl\", \"wb\") as f:\n",
    "    pickle.dump(model, f)"
   ]
  },
  {
   "cell_type": "code",
   "execution_count": 261,
   "id": "fcd880cd",
   "metadata": {},
   "outputs": [],
   "source": [
    "with open(\"modelo.pkl\", \"rb\") as f:\n",
    "    model = pickle.load(f)"
   ]
  },
  {
   "cell_type": "markdown",
   "id": "8cd8df09",
   "metadata": {},
   "source": [
    "## Classificação de novas músicas"
   ]
  },
  {
   "cell_type": "code",
   "execution_count": 256,
   "id": "5a985b3b",
   "metadata": {},
   "outputs": [
    {
     "data": {
      "text/plain": [
       "['A Head Full of Dreams',\n",
       " 'Coldplay',\n",
       " 'spotify:track:6f49kbOuQSOsStBpyGvQfA',\n",
       " 0.449,\n",
       " 0.0021,\n",
       " 0.92,\n",
       " 0.0167,\n",
       " 0.334,\n",
       " 0.0772,\n",
       " -4.982,\n",
       " 0.0737,\n",
       " 122.984]"
      ]
     },
     "execution_count": 256,
     "metadata": {},
     "output_type": "execute_result"
    }
   ],
   "source": [
    "list(df_nova_mus.iloc[0])"
   ]
  },
  {
   "cell_type": "code",
   "execution_count": 257,
   "id": "be00dea9",
   "metadata": {},
   "outputs": [],
   "source": [
    "new = df_nova_mus[['danceability', 'acousticness', 'energy', 'instrumentalness',\n",
    "                   'liveness', 'valence', 'loudness', 'speechiness', 'tempo']]"
   ]
  },
  {
   "cell_type": "code",
   "execution_count": 271,
   "id": "28c2e500",
   "metadata": {},
   "outputs": [
    {
     "data": {
      "text/plain": [
       "numpy.int32"
      ]
     },
     "execution_count": 271,
     "metadata": {},
     "output_type": "execute_result"
    }
   ],
   "source": [
    "type(clf.predict(new)[0])"
   ]
  },
  {
   "cell_type": "markdown",
   "id": "6421a81b",
   "metadata": {},
   "source": [
    "# Main"
   ]
  },
  {
   "cell_type": "code",
   "execution_count": 280,
   "id": "e8de277e",
   "metadata": {},
   "outputs": [
    {
     "name": "stdout",
     "output_type": "stream",
     "text": [
      "Digite o nome da banda/artista: abba\n",
      "Digite o nome da música (ou palavra chave): mamma mia\n",
      "Nome da música selecionada:  Mamma Mia\n",
      "Nome do artista:  ABBA\n",
      "Sua música foi classificada como:  Happy\n"
     ]
    }
   ],
   "source": [
    "if __name__ == \"__main__\":\n",
    "    # Escolher música de preferência\n",
    "    df_feat = features_musicais()\n",
    "    \n",
    "    # Carregar modelo escolhido\n",
    "    mod = carregar_modelo(\"modelo\")\n",
    "    \n",
    "    # Classificar música escolhida\n",
    "    mood = classificar_musica(mod,df_feat)"
   ]
  },
  {
   "cell_type": "code",
   "execution_count": 279,
   "id": "31802d57",
   "metadata": {},
   "outputs": [
    {
     "data": {
      "text/html": [
       "<div>\n",
       "<style scoped>\n",
       "    .dataframe tbody tr th:only-of-type {\n",
       "        vertical-align: middle;\n",
       "    }\n",
       "\n",
       "    .dataframe tbody tr th {\n",
       "        vertical-align: top;\n",
       "    }\n",
       "\n",
       "    .dataframe thead th {\n",
       "        text-align: right;\n",
       "    }\n",
       "</style>\n",
       "<table border=\"1\" class=\"dataframe\">\n",
       "  <thead>\n",
       "    <tr style=\"text-align: right;\">\n",
       "      <th></th>\n",
       "      <th>name</th>\n",
       "      <th>album</th>\n",
       "      <th>artist</th>\n",
       "      <th>id</th>\n",
       "      <th>release_date</th>\n",
       "      <th>popularity</th>\n",
       "      <th>length</th>\n",
       "      <th>danceability</th>\n",
       "      <th>acousticness</th>\n",
       "      <th>energy</th>\n",
       "      <th>...</th>\n",
       "      <th>loudness</th>\n",
       "      <th>speechiness</th>\n",
       "      <th>tempo</th>\n",
       "      <th>key</th>\n",
       "      <th>time_signature</th>\n",
       "      <th>mood</th>\n",
       "      <th>Unnamed: 19</th>\n",
       "      <th>Unnamed: 20</th>\n",
       "      <th>Unnamed: 21</th>\n",
       "      <th>Unnamed: 22</th>\n",
       "    </tr>\n",
       "  </thead>\n",
       "  <tbody>\n",
       "    <tr>\n",
       "      <th>0</th>\n",
       "      <td>1999</td>\n",
       "      <td>1999</td>\n",
       "      <td>Prince</td>\n",
       "      <td>2H7PHVdQ3mXqEHXcvclTB0</td>\n",
       "      <td>1982-10-27 00:00:00</td>\n",
       "      <td>68</td>\n",
       "      <td>379266</td>\n",
       "      <td>0.866</td>\n",
       "      <td>0.13700</td>\n",
       "      <td>0.7300</td>\n",
       "      <td>...</td>\n",
       "      <td>-8201.0</td>\n",
       "      <td>0.0767</td>\n",
       "      <td>1.185230e+05</td>\n",
       "      <td>5.0</td>\n",
       "      <td>4</td>\n",
       "      <td>Happy</td>\n",
       "      <td>NaN</td>\n",
       "      <td>NaN</td>\n",
       "      <td>NaN</td>\n",
       "      <td>NaN</td>\n",
       "    </tr>\n",
       "    <tr>\n",
       "      <th>1</th>\n",
       "      <td>23</td>\n",
       "      <td>23</td>\n",
       "      <td>Blonde Redhead</td>\n",
       "      <td>4HIwL9ii9CcXpTOTzMq0MP</td>\n",
       "      <td>2007-04-16 00:00:00</td>\n",
       "      <td>43</td>\n",
       "      <td>318800</td>\n",
       "      <td>0.381</td>\n",
       "      <td>0.01890</td>\n",
       "      <td>0.8320</td>\n",
       "      <td>...</td>\n",
       "      <td>-5069.0</td>\n",
       "      <td>0.0492</td>\n",
       "      <td>1.202550e+05</td>\n",
       "      <td>8.0</td>\n",
       "      <td>4</td>\n",
       "      <td>Sad</td>\n",
       "      <td>NaN</td>\n",
       "      <td>NaN</td>\n",
       "      <td>NaN</td>\n",
       "      <td>NaN</td>\n",
       "    </tr>\n",
       "    <tr>\n",
       "      <th>2</th>\n",
       "      <td>9 Crimes</td>\n",
       "      <td>9</td>\n",
       "      <td>Damien Rice</td>\n",
       "      <td>5GZEeowhvSieFDiR8fQ2im</td>\n",
       "      <td>2006-11-06 00:00:00</td>\n",
       "      <td>60</td>\n",
       "      <td>217946</td>\n",
       "      <td>0.346</td>\n",
       "      <td>0.91300</td>\n",
       "      <td>0.1390</td>\n",
       "      <td>...</td>\n",
       "      <td>-15326.0</td>\n",
       "      <td>0.0321</td>\n",
       "      <td>1.361680e+05</td>\n",
       "      <td>0.0</td>\n",
       "      <td>4</td>\n",
       "      <td>Sad</td>\n",
       "      <td>NaN</td>\n",
       "      <td>NaN</td>\n",
       "      <td>NaN</td>\n",
       "      <td>NaN</td>\n",
       "    </tr>\n",
       "    <tr>\n",
       "      <th>3</th>\n",
       "      <td>99 Luftballons</td>\n",
       "      <td>99 Luftballons</td>\n",
       "      <td>Nena</td>\n",
       "      <td>6HA97v4wEGQ5TUClRM0XLc</td>\n",
       "      <td>1984-08-21 00:00:00</td>\n",
       "      <td>2</td>\n",
       "      <td>233000</td>\n",
       "      <td>0.466</td>\n",
       "      <td>0.08900</td>\n",
       "      <td>0.4380</td>\n",
       "      <td>...</td>\n",
       "      <td>-12858.0</td>\n",
       "      <td>0.0608</td>\n",
       "      <td>1.931000e+02</td>\n",
       "      <td>4.0</td>\n",
       "      <td>4</td>\n",
       "      <td>Happy</td>\n",
       "      <td>NaN</td>\n",
       "      <td>NaN</td>\n",
       "      <td>NaN</td>\n",
       "      <td>NaN</td>\n",
       "    </tr>\n",
       "    <tr>\n",
       "      <th>4</th>\n",
       "      <td>A Boy Brushed Red Living In Black And White</td>\n",
       "      <td>They're Only Chasing Safety</td>\n",
       "      <td>Underoath</td>\n",
       "      <td>47IWLfIKOKhFnz1FUEUIkE</td>\n",
       "      <td>2004-01-01 00:00:00</td>\n",
       "      <td>60</td>\n",
       "      <td>268000</td>\n",
       "      <td>0.419</td>\n",
       "      <td>0.00171</td>\n",
       "      <td>0.9320</td>\n",
       "      <td>...</td>\n",
       "      <td>-3604.0</td>\n",
       "      <td>0.1060</td>\n",
       "      <td>1.698810e+16</td>\n",
       "      <td>1.0</td>\n",
       "      <td>4</td>\n",
       "      <td>Energetic</td>\n",
       "      <td>NaN</td>\n",
       "      <td>NaN</td>\n",
       "      <td>NaN</td>\n",
       "      <td>NaN</td>\n",
       "    </tr>\n",
       "    <tr>\n",
       "      <th>...</th>\n",
       "      <td>...</td>\n",
       "      <td>...</td>\n",
       "      <td>...</td>\n",
       "      <td>...</td>\n",
       "      <td>...</td>\n",
       "      <td>...</td>\n",
       "      <td>...</td>\n",
       "      <td>...</td>\n",
       "      <td>...</td>\n",
       "      <td>...</td>\n",
       "      <td>...</td>\n",
       "      <td>...</td>\n",
       "      <td>...</td>\n",
       "      <td>...</td>\n",
       "      <td>...</td>\n",
       "      <td>...</td>\n",
       "      <td>...</td>\n",
       "      <td>...</td>\n",
       "      <td>...</td>\n",
       "      <td>...</td>\n",
       "      <td>...</td>\n",
       "    </tr>\n",
       "    <tr>\n",
       "      <th>681</th>\n",
       "      <td>windcatcher</td>\n",
       "      <td>windcatcher</td>\n",
       "      <td>Leo Nocta</td>\n",
       "      <td>59VApBbrS2IADQk4ml5mdo</td>\n",
       "      <td>2020-06-19 00:00:00</td>\n",
       "      <td>36</td>\n",
       "      <td>123066</td>\n",
       "      <td>0.402</td>\n",
       "      <td>0.96100</td>\n",
       "      <td>0.2360</td>\n",
       "      <td>...</td>\n",
       "      <td>-20615.0</td>\n",
       "      <td>0.0603</td>\n",
       "      <td>1.297360e+05</td>\n",
       "      <td>0.0</td>\n",
       "      <td>3</td>\n",
       "      <td>Calm</td>\n",
       "      <td>NaN</td>\n",
       "      <td>NaN</td>\n",
       "      <td>NaN</td>\n",
       "      <td>NaN</td>\n",
       "    </tr>\n",
       "    <tr>\n",
       "      <th>682</th>\n",
       "      <td>yellow is the color of her eyes</td>\n",
       "      <td>yellow is the color of her eyes</td>\n",
       "      <td>Soccer Mommy</td>\n",
       "      <td>4D3nttJPU6L0M2epr7sId6</td>\n",
       "      <td>2019-11-19 00:00:00</td>\n",
       "      <td>5</td>\n",
       "      <td>435080</td>\n",
       "      <td>0.452</td>\n",
       "      <td>0.75700</td>\n",
       "      <td>0.5150</td>\n",
       "      <td>...</td>\n",
       "      <td>-7351.0</td>\n",
       "      <td>0.0255</td>\n",
       "      <td>8.053700e+15</td>\n",
       "      <td>11.0</td>\n",
       "      <td>4</td>\n",
       "      <td>Sad</td>\n",
       "      <td>NaN</td>\n",
       "      <td>NaN</td>\n",
       "      <td>NaN</td>\n",
       "      <td>NaN</td>\n",
       "    </tr>\n",
       "    <tr>\n",
       "      <th>683</th>\n",
       "      <td>you broke me first</td>\n",
       "      <td>you broke me first</td>\n",
       "      <td>Tate McRae</td>\n",
       "      <td>45bE4HXI0AwGZXfZtMp8JR</td>\n",
       "      <td>2020-04-17 00:00:00</td>\n",
       "      <td>87</td>\n",
       "      <td>169265</td>\n",
       "      <td>0.642</td>\n",
       "      <td>0.78600</td>\n",
       "      <td>0.3740</td>\n",
       "      <td>...</td>\n",
       "      <td>-9386.0</td>\n",
       "      <td>0.0545</td>\n",
       "      <td>1.240990e+05</td>\n",
       "      <td>4.0</td>\n",
       "      <td>4</td>\n",
       "      <td>Sad</td>\n",
       "      <td>NaN</td>\n",
       "      <td>NaN</td>\n",
       "      <td>NaN</td>\n",
       "      <td>NaN</td>\n",
       "    </tr>\n",
       "    <tr>\n",
       "      <th>684</th>\n",
       "      <td>you were good to me</td>\n",
       "      <td>brent</td>\n",
       "      <td>Jeremy Zucker</td>\n",
       "      <td>4CxFN5zON70B3VOPBYbd6P</td>\n",
       "      <td>2019-05-03 00:00:00</td>\n",
       "      <td>76</td>\n",
       "      <td>219146</td>\n",
       "      <td>0.561</td>\n",
       "      <td>0.91300</td>\n",
       "      <td>0.0848</td>\n",
       "      <td>...</td>\n",
       "      <td>-15099.0</td>\n",
       "      <td>0.0404</td>\n",
       "      <td>1.021280e+05</td>\n",
       "      <td>2.0</td>\n",
       "      <td>4</td>\n",
       "      <td>Sad</td>\n",
       "      <td>NaN</td>\n",
       "      <td>NaN</td>\n",
       "      <td>NaN</td>\n",
       "      <td>NaN</td>\n",
       "    </tr>\n",
       "    <tr>\n",
       "      <th>685</th>\n",
       "      <td>æfre</td>\n",
       "      <td>æfre</td>\n",
       "      <td>praam</td>\n",
       "      <td>2irbT1BSYaIEF44PlyKaoM</td>\n",
       "      <td>2020-07-17 00:00:00</td>\n",
       "      <td>41</td>\n",
       "      <td>186331</td>\n",
       "      <td>0.377</td>\n",
       "      <td>0.99400</td>\n",
       "      <td>0.0156</td>\n",
       "      <td>...</td>\n",
       "      <td>-28435.0</td>\n",
       "      <td>0.0397</td>\n",
       "      <td>1.401790e+05</td>\n",
       "      <td>0.0</td>\n",
       "      <td>4</td>\n",
       "      <td>Calm</td>\n",
       "      <td>NaN</td>\n",
       "      <td>NaN</td>\n",
       "      <td>NaN</td>\n",
       "      <td>NaN</td>\n",
       "    </tr>\n",
       "  </tbody>\n",
       "</table>\n",
       "<p>673 rows × 23 columns</p>\n",
       "</div>"
      ],
      "text/plain": [
       "                                            name  \\\n",
       "0                                           1999   \n",
       "1                                             23   \n",
       "2                                       9 Crimes   \n",
       "3                                 99 Luftballons   \n",
       "4    A Boy Brushed Red Living In Black And White   \n",
       "..                                           ...   \n",
       "681                                  windcatcher   \n",
       "682              yellow is the color of her eyes   \n",
       "683                           you broke me first   \n",
       "684                          you were good to me   \n",
       "685                                         æfre   \n",
       "\n",
       "                               album          artist                      id  \\\n",
       "0                               1999          Prince  2H7PHVdQ3mXqEHXcvclTB0   \n",
       "1                                 23  Blonde Redhead  4HIwL9ii9CcXpTOTzMq0MP   \n",
       "2                                  9     Damien Rice  5GZEeowhvSieFDiR8fQ2im   \n",
       "3                     99 Luftballons            Nena  6HA97v4wEGQ5TUClRM0XLc   \n",
       "4        They're Only Chasing Safety       Underoath  47IWLfIKOKhFnz1FUEUIkE   \n",
       "..                               ...             ...                     ...   \n",
       "681                      windcatcher       Leo Nocta  59VApBbrS2IADQk4ml5mdo   \n",
       "682  yellow is the color of her eyes    Soccer Mommy  4D3nttJPU6L0M2epr7sId6   \n",
       "683               you broke me first      Tate McRae  45bE4HXI0AwGZXfZtMp8JR   \n",
       "684                            brent   Jeremy Zucker  4CxFN5zON70B3VOPBYbd6P   \n",
       "685                             æfre           praam  2irbT1BSYaIEF44PlyKaoM   \n",
       "\n",
       "            release_date popularity  length  danceability  acousticness  \\\n",
       "0    1982-10-27 00:00:00         68  379266         0.866       0.13700   \n",
       "1    2007-04-16 00:00:00         43  318800         0.381       0.01890   \n",
       "2    2006-11-06 00:00:00         60  217946         0.346       0.91300   \n",
       "3    1984-08-21 00:00:00          2  233000         0.466       0.08900   \n",
       "4    2004-01-01 00:00:00         60  268000         0.419       0.00171   \n",
       "..                   ...        ...     ...           ...           ...   \n",
       "681  2020-06-19 00:00:00         36  123066         0.402       0.96100   \n",
       "682  2019-11-19 00:00:00          5  435080         0.452       0.75700   \n",
       "683  2020-04-17 00:00:00         87  169265         0.642       0.78600   \n",
       "684  2019-05-03 00:00:00         76  219146         0.561       0.91300   \n",
       "685  2020-07-17 00:00:00         41  186331         0.377       0.99400   \n",
       "\n",
       "     energy  ...  loudness  speechiness         tempo   key  time_signature  \\\n",
       "0    0.7300  ...   -8201.0       0.0767  1.185230e+05   5.0               4   \n",
       "1    0.8320  ...   -5069.0       0.0492  1.202550e+05   8.0               4   \n",
       "2    0.1390  ...  -15326.0       0.0321  1.361680e+05   0.0               4   \n",
       "3    0.4380  ...  -12858.0       0.0608  1.931000e+02   4.0               4   \n",
       "4    0.9320  ...   -3604.0       0.1060  1.698810e+16   1.0               4   \n",
       "..      ...  ...       ...          ...           ...   ...             ...   \n",
       "681  0.2360  ...  -20615.0       0.0603  1.297360e+05   0.0               3   \n",
       "682  0.5150  ...   -7351.0       0.0255  8.053700e+15  11.0               4   \n",
       "683  0.3740  ...   -9386.0       0.0545  1.240990e+05   4.0               4   \n",
       "684  0.0848  ...  -15099.0       0.0404  1.021280e+05   2.0               4   \n",
       "685  0.0156  ...  -28435.0       0.0397  1.401790e+05   0.0               4   \n",
       "\n",
       "          mood  Unnamed: 19  Unnamed: 20 Unnamed: 21 Unnamed: 22  \n",
       "0        Happy          NaN          NaN         NaN         NaN  \n",
       "1          Sad          NaN          NaN         NaN         NaN  \n",
       "2          Sad          NaN          NaN         NaN         NaN  \n",
       "3        Happy          NaN          NaN         NaN         NaN  \n",
       "4    Energetic          NaN          NaN         NaN         NaN  \n",
       "..         ...          ...          ...         ...         ...  \n",
       "681       Calm          NaN          NaN         NaN         NaN  \n",
       "682        Sad          NaN          NaN         NaN         NaN  \n",
       "683        Sad          NaN          NaN         NaN         NaN  \n",
       "684        Sad          NaN          NaN         NaN         NaN  \n",
       "685       Calm          NaN          NaN         NaN         NaN  \n",
       "\n",
       "[673 rows x 23 columns]"
      ]
     },
     "execution_count": 279,
     "metadata": {},
     "output_type": "execute_result"
    }
   ],
   "source": [
    "df_"
   ]
  }
 ],
 "metadata": {
  "kernelspec": {
   "display_name": "Python 3 (ipykernel)",
   "language": "python",
   "name": "python3"
  },
  "language_info": {
   "codemirror_mode": {
    "name": "ipython",
    "version": 3
   },
   "file_extension": ".py",
   "mimetype": "text/x-python",
   "name": "python",
   "nbconvert_exporter": "python",
   "pygments_lexer": "ipython3",
   "version": "3.10.4"
  }
 },
 "nbformat": 4,
 "nbformat_minor": 5
}
